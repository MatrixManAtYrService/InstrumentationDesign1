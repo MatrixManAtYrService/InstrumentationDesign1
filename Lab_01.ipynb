{
 "cells": [
  {
   "cell_type": "markdown",
   "id": "076c23f9",
   "metadata": {},
   "source": [
    "# Instrumentation Design 1\n",
    "## Lab 1: Introduction to DC circuits. Series circuits.\n",
    "\n",
    "Lab report for Matt Rixman"
   ]
  },
  {
   "cell_type": "markdown",
   "id": "eefa9557",
   "metadata": {},
   "source": [
    "### 2. Resistor Color Code and Measurement of Resistance\n",
    "\n",
    "1-2: populate table 2.3\n",
    "\n",
    "| | 1 | 2 | 3 | 4 | 5 | 6 | 7 | 8 | 9 | 10\n",
    "| :- | :- | :- | :- | :- | :- | :- | :- | :- | :- | :- |\n",
    "| First color band | brown | brown | red | blue | red | grey | brown | yellow | brown | orange |\n",
    "| Second color band | black | black | red | gray | brown | red | black | brown | black | orange |\n",
    "| Third color band | yellow | green | orange | red | orange | red | gold | orange | yellow | yellow |\n",
    "| Fourth color band | gold | gold | gold | gold | gold | gold | gold | gold | gold | gold |\n",
    "| Coded value (Ω) | 100k | 1M | 22k | 6.8k | 21k | 8.2k | 1.0 |41k | 100k | 330k |\n",
    "| Tolerance (%) | 5 | 5 | 5 | 5 | 5 | 5 | 5 | 5 | 5 | 5 |\n",
    "| Measured value (Ω) | 98.0k | 984k | 21.7k | 6.80k | 26.3k | 8.0k | 1.2 | 46.0k | 97.7k | 322k |\n",
    "\n",
    "3-5: populate table 2.4\n",
    "\n",
    "| Setting of Potentionmeter Control | R<sub>AB</sub> (Ω) | R<sub>AC</sub> (Ω) | R<sub>BC</sub> (Ω) | R<sub>AC</sub> + R<sub>BC</sub> Calculated Value \n",
    "| :- | :- | :- | :- | :- |\n",
    "| Completely CCW | 9.39k | 8.69k | 0.58k | 9.97k |\n",
    "| Completely CW | 0.49k | 8.69k | 9.17k | 9.66k |\n",
    "\n",
    "6: Shorting terminals A and C has no effect on the resistance between B & C, it remains at 490Ω\n",
    "\n",
    "7: Shorting terminals B and C has no effect on the resistance between A & C, it remains at 9.20kΩ \n",
    "\n",
    "8: There is no 8\n",
    "\n",
    "9: \n",
    "- (a) 0.27Ω, 1/2W, 5% : red violet silver gold\n",
    "- (b) 2.2Ω, 1/4W, 10% : red red gold silver\n",
    "- (c) 39Ω, 1/8W, 10% : orange white black silver\n",
    "- (d) 33kΩ, 1W, 20% : orange orange orange none"
   ]
  },
  {
   "cell_type": "markdown",
   "id": "ac80ac67",
   "metadata": {},
   "source": [
    "### 3. Measurement of Direct Current\n",
    "\n",
    "1 & 2: 1kΩ resistor measured 0.99kΩ\n",
    "\n",
    "3 - 5: at 6V, the circut in figure 3.2 drew 6.05 mA\n",
    "\n",
    "6: Removing the resistor dropped the current draw to 0 mA\n",
    "\n",
    "7: Two 1kΩ resistors in series measured  1.97kΩ\n",
    "\n",
    "8: At 6V, the current through them measured 2.90 mA\n",
    "\n",
    "9: At 6V, 3x 1kΩ resistors in series measured 1.96 mA\n",
    "\n",
    "> More resistance => less current\n",
    "\n",
    "10:\n",
    "\n",
    "> A series circuit's current is the same regardless of where it is measured\n",
    "\n",
    "11-18: For the circuit in figure 3.2\n",
    "\n",
    "| Voltage | Resistance (Ω) | Current (A) |\n",
    "|:-|:-|:-|\n",
    "|8|1k|8.024m|\n",
    "|6|1k|6.50m|\n",
    "|4|1k|3.64m|\n",
    "|2|1k|1.85m|\n",
    "|0|1k|0.20µ|\n",
    "\n",
    "19. \n",
    "> Less voltage => less current"
   ]
  },
  {
   "cell_type": "markdown",
   "id": "3dd10c1b",
   "metadata": {},
   "source": [
    "### 4. Ohm's Law\n",
    "\n",
    "Despite an initial calibration of 1kΩ, we mishandled our potentiometer--so its resistance was at 0.86Ω for the following measurements."
   ]
  },
  {
   "cell_type": "code",
   "execution_count": 4,
   "id": "2ea46820",
   "metadata": {},
   "outputs": [],
   "source": [
    "# code block, these values used to render the table below\n",
    "\n",
    "k = 10**3\n",
    "m = 10**-3\n",
    "R = 0.86 * k\n",
    "I_2 = 2.15 * m\n",
    "I_4 = 4.25 * m\n",
    "I_6 = 7.22 * m\n",
    "I_8 = 10.28 * m\n",
    "\n",
    "from si_prefix import si_format as f"
   ]
  },
  {
   "cell_type": "markdown",
   "id": "043b4a5d",
   "metadata": {
    "variables": {
     " f(2/I_2, precision=0) ": "930 ",
     " f(4/I_4, precision=0) ": "941 ",
     " f(5.5 / R) ": "6.4 m",
     " f(6/I_6, precision=0) ": "831 ",
     " f(8/I_8, precision=0) ": "778 ",
     " f(9 / R) ": "10.5 m",
     " f(I_2, precision=2) ": "2.15 m",
     " f(I_4, precision=2) ": "4.25 m",
     " f(I_6, precision=2) ": "7.22 m",
     " f(I_8, precision=2) ": "10.28 m",
     " f(R, precision=0) ": "860 "
    }
   },
   "source": [
    "1-6.  This table shows how the current in the circut in figure 4.1 varies as the voltage is changed, given a fixed resistance\n",
    "\n",
    "| V | R (Ω) | I (A) | V/I |\n",
    "|:-|:-|:-|:-|\n",
    "|2|{{ f(R, precision=0) }}|{{ f(I_2, precision=2) }}| {{ f(2/I_2, precision=0) }}|\n",
    "|4|{{ f(R, precision=0) }}|{{ f(I_4, precision=2) }}| {{ f(4/I_4, precision=0) }}|\n",
    "|6|{{ f(R, precision=0) }}|{{ f(I_6, precision=2) }}| {{ f(6/I_6, precision=0) }}|\n",
    "|8|{{ f(R, precision=0) }}|{{ f(I_8, precision=2) }}| {{ f(8/I_8, precision=0) }}|\n",
    "\n",
    "7. \n",
    "\n",
    "> V = IR, I = V/R\n",
    "\n",
    "8.\n",
    "- At 5.5 volts, calculated current: {{ f(5.5 / R) }}A\n",
    "- At 9 volts, calculated current: {{ f(9 / R) }}A\n",
    "\n",
    "9.\n",
    "- At 5.5 volts, current was measured to be 6.19mA\n",
    "- At 9 volts, current was measured to be 12.2ma"
   ]
  },
  {
   "cell_type": "markdown",
   "id": "0bb0b263",
   "metadata": {},
   "source": [
    "### 5. Series Circuits"
   ]
  },
  {
   "cell_type": "code",
   "execution_count": 5,
   "id": "19777d27",
   "metadata": {},
   "outputs": [],
   "source": [
    "# chosen resistors:\n",
    "R = { 1 : 100,\n",
    "      2 : 1 * k,\n",
    "      3 : 10 * k,\n",
    "      4 : 100 * k,\n",
    "      5 : 2.2 * k,\n",
    "      6 : 1.6 * k }\n",
    "\n",
    "def resistance(resistors):\n",
    "    return sum([R[r] for r in resistors])\n",
    "\n",
    "def current(resistors, voltage):\n",
    "    return voltage / resistance(resistors)"
   ]
  },
  {
   "cell_type": "markdown",
   "id": "ab09b18f",
   "metadata": {
    "variables": {
     " f(current([1,2,3,4,5], 10)) ": "88.3 µ",
     " f(current([1,2,3,4], 10)) ": "90.0 µ",
     " f(current([1,2,3], 10)) ": "900.9 µ",
     " f(current([1,3], 10)) ": "990.1 µ",
     " f(current([3,4,5], 10)) ": "89.1 µ",
     " f(current([3,4], 10)) ": "90.9 µ",
     " f(current([5,6], 10)) ": "2.6 m",
     " f(resistance([1,2,3,4,5])) ": "113.3 k",
     " f(resistance([1,2,3,4])) ": "111.1 k",
     " f(resistance([1,2,3])) ": "11.1 k",
     " f(resistance([1,3])) ": "10.1 k",
     " f(resistance([3,4,5])) ": "112.2 k",
     " f(resistance([3,4])) ": "110.0 k",
     " f(resistance([5,6])) ": "3.8 k"
    }
   },
   "source": [
    "At 10 volts...\n",
    "\n",
    "| Figure | Contains Resistors | Measured R (Ω) | Calculated R (Ω) | Measured I (A) | Calculated I (A)|\n",
    "|:-|:-|:-|:-|:-|:-|\n",
    "|5.3a|1, 3|9.94k|{{ f(resistance([1,3])) }}|1m|{{ f(current([1,3], 10)) }}|\n",
    "|5.3b|3, 4|108.4k|{{ f(resistance([3,4])) }}|92.4m|{{ f(current([3,4], 10)) }}|\n",
    "|5.3c|5, 6|7.7k|{{ f(resistance([5,6])) }}|1.29m|{{ f(current([5,6], 10)) }}|\n",
    "|5.3d|1, 2, 3|10.9k|{{ f(resistance([1,2,3])) }}|0.91m|{{ f(current([1,2,3], 10)) }}|\n",
    "|5.3e|3, 4, 5|110.3k|{{ f(resistance([3,4,5])) }}|90.7µ|{{ f(current([3,4,5], 10)) }}|\n",
    "|5.3f|1, 2, 3, 4|109.3k|{{ f(resistance([1,2,3,4])) }}|91.5µ|{{ f(current([1,2,3,4], 10)) }}|\n",
    "|5.3g|1, 2, 3, 4, 5|111.7k|{{ f(resistance([1,2,3,4,5])) }}|89.8µ|{{ f(current([1,2,3,4,5], 10)) }}|\n",
    "\n",
    "> The resistance of a series circuit is the sum of the resiststances of the resistors in that circuit."
   ]
  },
  {
   "cell_type": "markdown",
   "id": "eb042d6f",
   "metadata": {},
   "source": [
    "### 6. Designing Series Circuits\n",
    "\n",
    "Problem 2:  Given two resistors at 820Ω and 680Ω and a 15V power supply we calculate a current of 10mA.  Setting up this circuit showed 9.98mA through the ammeter."
   ]
  },
  {
   "cell_type": "markdown",
   "id": "7cacf1dc",
   "metadata": {},
   "source": [
    "### 7. Voltage Divider Circuits\n",
    "\n",
    "We were unable to find the correct resistors to implement the circuit in Figure 7.1, so we made the following substitutions:\n",
    "    \n",
    "| Name | Called For | Used |\n",
    "| :- | :- | :- |\n",
    "| R1 | 7.5kΩ | 8.2kΩ |\n",
    "| R2 | 2.5kΩ | 2.2kΩ |\n",
    "\n",
    "Targeting 10.4kΩ total reistance with a 12V potential..."
   ]
  },
  {
   "cell_type": "code",
   "execution_count": 6,
   "id": "953260d7",
   "metadata": {},
   "outputs": [],
   "source": [
    "R_1 = 8.2 * k\n",
    "R_2 = 2.2 * k\n",
    "R_total = R_1 + R_2\n",
    "\n",
    "V_total = 12\n",
    "V_1 = (R_1 / R_total) * V_total\n",
    "V_2 = (R_2 / R_total) * V_total"
   ]
  },
  {
   "cell_type": "markdown",
   "id": "d782c193",
   "metadata": {
    "variables": {
     " f(V_1, precision=2) ": "9.46 ",
     " f(V_2, precision=2) ": "2.54 "
    }
   },
   "source": [
    "In the circuit shown by Figure 7.1 (given the substitutions) we calculate:\n",
    "\n",
    "V<sub>1</sub> = {{ f(V_1, precision=2) }}\n",
    "\n",
    "V<sub>2</sub> = {{ f(V_2, precision=2) }}\n",
    "\n",
    "Experimentally we find:\n",
    "\n",
    "\n",
    "V<sub>1</sub> = 9.51\n",
    "\n",
    "V<sub>2</sub> = 2.55\n"
   ]
  }
 ],
 "metadata": {
  "kernelspec": {
   "display_name": "Python 3 (ipykernel)",
   "language": "python",
   "name": "python3"
  },
  "language_info": {
   "codemirror_mode": {
    "name": "ipython",
    "version": 3
   },
   "file_extension": ".py",
   "mimetype": "text/x-python",
   "name": "python",
   "nbconvert_exporter": "python",
   "pygments_lexer": "ipython3",
   "version": "3.9.6"
  }
 },
 "nbformat": 4,
 "nbformat_minor": 5
}
