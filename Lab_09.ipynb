{
 "cells": [
  {
   "cell_type": "markdown",
   "id": "076c23f9",
   "metadata": {},
   "source": [
    "# Instrumentation Design 1\n",
    "## Lab 9 - RC-Circuits\n",
    "\n",
    "Lab report by Matt Rixman"
   ]
  },
  {
   "cell_type": "markdown",
   "id": "eefa9557",
   "metadata": {},
   "source": [
    "### 1. RC Time Constants\n",
    "\n",
    "Objective 1: To determine experimentally the time it takes a capacitor to charge through a resistance\n",
    "\n",
    "Objective 2: To determine experimentally the time it takes a capacitor to discharge through a resistance\n",
    "\n",
    "#### A. Discharging of a Capacitor\n",
    "\n",
    "1-11. The circuit in figure 1.5 was built.  The following measurements show how long the capacitor took to charge:"
   ]
  },
  {
   "cell_type": "code",
   "execution_count": 1,
   "id": "6c333a8f",
   "metadata": {},
   "outputs": [
    {
     "data": {
      "text/html": [
       "<div>\n",
       "<style scoped>\n",
       "    .dataframe tbody tr th:only-of-type {\n",
       "        vertical-align: middle;\n",
       "    }\n",
       "\n",
       "    .dataframe tbody tr th {\n",
       "        vertical-align: top;\n",
       "    }\n",
       "\n",
       "    .dataframe thead th {\n",
       "        text-align: right;\n",
       "    }\n",
       "</style>\n",
       "<table border=\"1\" class=\"dataframe\">\n",
       "  <thead>\n",
       "    <tr style=\"text-align: right;\">\n",
       "      <th></th>\n",
       "      <th>seconds</th>\n",
       "      <th>trial 1 (V)</th>\n",
       "      <th>trial 2 (V)</th>\n",
       "      <th>trial 3 (V)</th>\n",
       "      <th>average (V)</th>\n",
       "    </tr>\n",
       "  </thead>\n",
       "  <tbody>\n",
       "    <tr>\n",
       "      <th>1</th>\n",
       "      <td>10.00</td>\n",
       "      <td>4.00</td>\n",
       "      <td>4.24</td>\n",
       "      <td>4.26</td>\n",
       "      <td>4.17</td>\n",
       "    </tr>\n",
       "    <tr>\n",
       "      <th>2</th>\n",
       "      <td>20.00</td>\n",
       "      <td>1.90</td>\n",
       "      <td>1.85</td>\n",
       "      <td>1.86</td>\n",
       "      <td>1.87</td>\n",
       "    </tr>\n",
       "    <tr>\n",
       "      <th>3</th>\n",
       "      <td>30.00</td>\n",
       "      <td>870.00 m</td>\n",
       "      <td>860.00 m</td>\n",
       "      <td>860.00 m</td>\n",
       "      <td>863.33 m</td>\n",
       "    </tr>\n",
       "    <tr>\n",
       "      <th>4</th>\n",
       "      <td>40.00</td>\n",
       "      <td>458.00 m</td>\n",
       "      <td>412.00 m</td>\n",
       "      <td>415.00 m</td>\n",
       "      <td>428.33 m</td>\n",
       "    </tr>\n",
       "    <tr>\n",
       "      <th>5</th>\n",
       "      <td>50.00</td>\n",
       "      <td>207.00 m</td>\n",
       "      <td>193.00 m</td>\n",
       "      <td>193.00 m</td>\n",
       "      <td>197.67 m</td>\n",
       "    </tr>\n",
       "    <tr>\n",
       "      <th>12</th>\n",
       "      <td>120.00</td>\n",
       "      <td>47.00 m</td>\n",
       "      <td>39.00 m</td>\n",
       "      <td>37.00 m</td>\n",
       "      <td>41.00 m</td>\n",
       "    </tr>\n",
       "  </tbody>\n",
       "</table>\n",
       "</div>"
      ],
      "text/plain": [
       "    seconds trial 1 (V) trial 2 (V) trial 3 (V) average (V)\n",
       "1    10.00        4.00        4.24        4.26        4.17 \n",
       "2    20.00        1.90        1.85        1.86        1.87 \n",
       "3    30.00     870.00 m    860.00 m    860.00 m    863.33 m\n",
       "4    40.00     458.00 m    412.00 m    415.00 m    428.33 m\n",
       "5    50.00     207.00 m    193.00 m    193.00 m    197.67 m\n",
       "12  120.00      47.00 m     39.00 m     37.00 m     41.00 m"
      ]
     },
     "metadata": {},
     "output_type": "display_data"
    }
   ],
   "source": [
    "# nothing to see here\n",
    "import pandas as pd\n",
    "from si_prefix import si_format\n",
    "from IPython.display import display\n",
    "from sympy import symbols, Eq\n",
    "\n",
    "def display_frame(frame, hide_columns=None):\n",
    "    display(frame.applymap(lambda x: si_format(x, precision=2) if type(x) in [int, float] else x))\n",
    "    \n",
    "\n",
    "change_after = [0, .632, .865, .950, .982, .993, 1]\n",
    "\n",
    "columns = [\"seconds\", \"trial 1 (V)\", \"trial 2 (V)\", \"trial 3 (V)\"]\n",
    "discharge = pd.DataFrame.from_dict({\n",
    "    1: [10, 4, 4.24, 4.26],\n",
    "    2: [20, 1.9, 1.85, 1.86],\n",
    "    3: [30, 0.87, 0.86, 0.86],\n",
    "    4: [40, .458, .412, .415 ],\n",
    "    5: [50, .207, .193, .193],\n",
    "    12: [120, .047, .039, .037],\n",
    "}, orient='index', columns=columns)\n",
    "discharge[\"average (V)\"] = discharge.apply(lambda x: sum(x[trial] for trial in columns[1:])/3, axis=1)\n",
    "\n",
    "display_frame(discharge)"
   ]
  },
  {
   "cell_type": "markdown",
   "id": "9c7990b3",
   "metadata": {},
   "source": [
    "12. Calculations below"
   ]
  },
  {
   "cell_type": "code",
   "execution_count": 2,
   "id": "77892e3e",
   "metadata": {},
   "outputs": [
    {
     "name": "stdout",
     "output_type": "stream",
     "text": [
      "Voltmeter internal resistance: 10.0 M Ω\n"
     ]
    }
   ],
   "source": [
    "r = 1e6\n",
    "ps_volts = 11\n",
    "voltmeter_ohms = 10 / (ps_volts - 10) * r\n",
    "print('Voltmeter internal resistance:', si_format(voltmeter_ohms), 'Ω')"
   ]
  },
  {
   "cell_type": "code",
   "execution_count": 3,
   "id": "88beb619",
   "metadata": {},
   "outputs": [
    {
     "name": "stdout",
     "output_type": "stream",
     "text": [
      "RC time constant: 10.0 s\n"
     ]
    }
   ],
   "source": [
    "cap_farads = 1e-6\n",
    "rc_seconds = cap_farads * voltmeter_ohms\n",
    "print('RC time constant:', rc_seconds, 's')"
   ]
  },
  {
   "cell_type": "code",
   "execution_count": 4,
   "id": "e34eba62",
   "metadata": {},
   "outputs": [
    {
     "data": {
      "text/html": [
       "<div>\n",
       "<style scoped>\n",
       "    .dataframe tbody tr th:only-of-type {\n",
       "        vertical-align: middle;\n",
       "    }\n",
       "\n",
       "    .dataframe tbody tr th {\n",
       "        vertical-align: top;\n",
       "    }\n",
       "\n",
       "    .dataframe thead th {\n",
       "        text-align: right;\n",
       "    }\n",
       "</style>\n",
       "<table border=\"1\" class=\"dataframe\">\n",
       "  <thead>\n",
       "    <tr style=\"text-align: right;\">\n",
       "      <th></th>\n",
       "      <th>seconds</th>\n",
       "      <th>trial 1 (V)</th>\n",
       "      <th>trial 2 (V)</th>\n",
       "      <th>trial 3 (V)</th>\n",
       "      <th>average (V)</th>\n",
       "      <th>capacity remaining (%)</th>\n",
       "      <th>calculated (V)</th>\n",
       "    </tr>\n",
       "  </thead>\n",
       "  <tbody>\n",
       "    <tr>\n",
       "      <th>1</th>\n",
       "      <td>10.00</td>\n",
       "      <td>4.00</td>\n",
       "      <td>4.24</td>\n",
       "      <td>4.26</td>\n",
       "      <td>4.17</td>\n",
       "      <td>36.80</td>\n",
       "      <td>3.68</td>\n",
       "    </tr>\n",
       "    <tr>\n",
       "      <th>2</th>\n",
       "      <td>20.00</td>\n",
       "      <td>1.90</td>\n",
       "      <td>1.85</td>\n",
       "      <td>1.86</td>\n",
       "      <td>1.87</td>\n",
       "      <td>13.50</td>\n",
       "      <td>1.35</td>\n",
       "    </tr>\n",
       "    <tr>\n",
       "      <th>3</th>\n",
       "      <td>30.00</td>\n",
       "      <td>870.00 m</td>\n",
       "      <td>860.00 m</td>\n",
       "      <td>860.00 m</td>\n",
       "      <td>863.33 m</td>\n",
       "      <td>5.00</td>\n",
       "      <td>500.00 m</td>\n",
       "    </tr>\n",
       "    <tr>\n",
       "      <th>4</th>\n",
       "      <td>40.00</td>\n",
       "      <td>458.00 m</td>\n",
       "      <td>412.00 m</td>\n",
       "      <td>415.00 m</td>\n",
       "      <td>428.33 m</td>\n",
       "      <td>1.80</td>\n",
       "      <td>180.00 m</td>\n",
       "    </tr>\n",
       "    <tr>\n",
       "      <th>5</th>\n",
       "      <td>50.00</td>\n",
       "      <td>207.00 m</td>\n",
       "      <td>193.00 m</td>\n",
       "      <td>193.00 m</td>\n",
       "      <td>197.67 m</td>\n",
       "      <td>0.70</td>\n",
       "      <td>70.00 m</td>\n",
       "    </tr>\n",
       "    <tr>\n",
       "      <th>12</th>\n",
       "      <td>120.00</td>\n",
       "      <td>47.00 m</td>\n",
       "      <td>39.00 m</td>\n",
       "      <td>37.00 m</td>\n",
       "      <td>41.00 m</td>\n",
       "      <td>0.00</td>\n",
       "      <td>0.00</td>\n",
       "    </tr>\n",
       "  </tbody>\n",
       "</table>\n",
       "</div>"
      ],
      "text/plain": [
       "    seconds trial 1 (V) trial 2 (V) trial 3 (V) average (V)  \\\n",
       "1    10.00        4.00        4.24        4.26        4.17    \n",
       "2    20.00        1.90        1.85        1.86        1.87    \n",
       "3    30.00     870.00 m    860.00 m    860.00 m    863.33 m   \n",
       "4    40.00     458.00 m    412.00 m    415.00 m    428.33 m   \n",
       "5    50.00     207.00 m    193.00 m    193.00 m    197.67 m   \n",
       "12  120.00      47.00 m     39.00 m     37.00 m     41.00 m   \n",
       "\n",
       "   capacity remaining (%) calculated (V)  \n",
       "1                   36.80          3.68   \n",
       "2                   13.50          1.35   \n",
       "3                    5.00       500.00 m  \n",
       "4                    1.80       180.00 m  \n",
       "5                    0.70        70.00 m  \n",
       "12                   0.00          0.00   "
      ]
     },
     "metadata": {},
     "output_type": "display_data"
    }
   ],
   "source": [
    "discharge['p'] = discharge.apply(\n",
    "    lambda x: 1 - change_after[min(int(x[\"seconds\"] / rc_seconds), 6)],\n",
    "    axis=1)\n",
    "discharge['capacity remaining (%)'] = discharge.apply(\n",
    "    lambda x: \"{:.2f}\".format(100 * x['p']),\n",
    "    axis=1)\n",
    "discharge['calculated (V)'] = discharge.apply(\n",
    "    lambda x: x[\"p\"] * 10,\n",
    "    axis=1)\n",
    "discharge.pop('p')\n",
    "display_frame(discharge)"
   ]
  },
  {
   "cell_type": "markdown",
   "id": "af93e84e",
   "metadata": {},
   "source": [
    "13. Our calculated values were consistently lower than our measured values.  I'm not sure what caused this."
   ]
  },
  {
   "cell_type": "code",
   "execution_count": 5,
   "id": "e66e83aa",
   "metadata": {},
   "outputs": [
    {
     "data": {
      "image/png": "[encoded data removed]",
      "text/plain": [
       "<Figure size 1080x720 with 1 Axes>"
      ]
     },
     "metadata": {
      "needs_background": "light"
     },
     "output_type": "display_data"
    }
   ],
   "source": [
    "import matplotlib.pyplot as plt\n",
    "fig = plt.figure()\n",
    "fig.set_figwidth(15)\n",
    "fig.set_figheight(10)\n",
    "ax = fig.add_subplot()\n",
    "ax.set_title(\"measured and calculated voltages during capacitor discharge\")\n",
    "ax.set_ylabel(\"volts\")\n",
    "ax.set_xlabel(\"seconds since powersupply disconnect\")\n",
    "ax.scatter(discharge['seconds'], discharge['average (V)'], label='measured')\n",
    "ax.scatter(discharge['seconds'], discharge['calculated (V)'], label='calculated')\n",
    "plt.legend(loc='upper right')\n",
    "plt.show()"
   ]
  },
  {
   "cell_type": "markdown",
   "id": "2831e02b",
   "metadata": {},
   "source": [
    "#### B. Charging of a Capacitor\n",
    "\n",
    "1-11. The circuit in figure 1.6 was built.  The following measurements show how long it took to charge:"
   ]
  },
  {
   "cell_type": "code",
   "execution_count": 6,
   "id": "44549629",
   "metadata": {},
   "outputs": [
    {
     "data": {
      "text/html": [
       "<div>\n",
       "<style scoped>\n",
       "    .dataframe tbody tr th:only-of-type {\n",
       "        vertical-align: middle;\n",
       "    }\n",
       "\n",
       "    .dataframe tbody tr th {\n",
       "        vertical-align: top;\n",
       "    }\n",
       "\n",
       "    .dataframe thead th {\n",
       "        text-align: right;\n",
       "    }\n",
       "</style>\n",
       "<table border=\"1\" class=\"dataframe\">\n",
       "  <thead>\n",
       "    <tr style=\"text-align: right;\">\n",
       "      <th></th>\n",
       "      <th>seconds</th>\n",
       "      <th>trial 1 (V)</th>\n",
       "      <th>trial 2 (V)</th>\n",
       "      <th>trial 3 (V)</th>\n",
       "      <th>average (V)</th>\n",
       "    </tr>\n",
       "  </thead>\n",
       "  <tbody>\n",
       "    <tr>\n",
       "      <th>1</th>\n",
       "      <td>10.00</td>\n",
       "      <td>5.82</td>\n",
       "      <td>5.12</td>\n",
       "      <td>6.10</td>\n",
       "      <td>5.68</td>\n",
       "    </tr>\n",
       "    <tr>\n",
       "      <th>2</th>\n",
       "      <td>20.00</td>\n",
       "      <td>8.20</td>\n",
       "      <td>8.20</td>\n",
       "      <td>8.20</td>\n",
       "      <td>8.20</td>\n",
       "    </tr>\n",
       "    <tr>\n",
       "      <th>3</th>\n",
       "      <td>30.00</td>\n",
       "      <td>9.21</td>\n",
       "      <td>9.21</td>\n",
       "      <td>9.19</td>\n",
       "      <td>9.20</td>\n",
       "    </tr>\n",
       "    <tr>\n",
       "      <th>4</th>\n",
       "      <td>40.00</td>\n",
       "      <td>9.60</td>\n",
       "      <td>9.61</td>\n",
       "      <td>9.60</td>\n",
       "      <td>9.60</td>\n",
       "    </tr>\n",
       "    <tr>\n",
       "      <th>5</th>\n",
       "      <td>50.00</td>\n",
       "      <td>9.84</td>\n",
       "      <td>9.85</td>\n",
       "      <td>9.85</td>\n",
       "      <td>9.85</td>\n",
       "    </tr>\n",
       "    <tr>\n",
       "      <th>12</th>\n",
       "      <td>120.00</td>\n",
       "      <td>10.01</td>\n",
       "      <td>10.02</td>\n",
       "      <td>10.02</td>\n",
       "      <td>10.02</td>\n",
       "    </tr>\n",
       "  </tbody>\n",
       "</table>\n",
       "</div>"
      ],
      "text/plain": [
       "    seconds trial 1 (V) trial 2 (V) trial 3 (V) average (V)\n",
       "1    10.00        5.82        5.12        6.10        5.68 \n",
       "2    20.00        8.20        8.20        8.20        8.20 \n",
       "3    30.00        9.21        9.21        9.19        9.20 \n",
       "4    40.00        9.60        9.61        9.60        9.60 \n",
       "5    50.00        9.84        9.85        9.85        9.85 \n",
       "12  120.00       10.01       10.02       10.02       10.02 "
      ]
     },
     "metadata": {},
     "output_type": "display_data"
    }
   ],
   "source": [
    "charge = pd.DataFrame.from_dict({\n",
    "    1: [10, 5.822, 5.12, 6.102],\n",
    "    2: [20, 8.202, 8.202, 8.199],\n",
    "    3: [30, 9.209, 9.207, 9.192],\n",
    "    4: [40, 9.602, 9.605, 9.600],\n",
    "    5: [50, 9.844, 9.846, 9.846],\n",
    "    12: [120, 10.014, 10.015, 10.018],\n",
    "}, orient='index', columns=columns)\n",
    "charge[\"average (V)\"] = charge.apply(lambda x: sum(x[trial] for trial in columns[1:])/3, axis=1)\n",
    "\n",
    "display_frame(charge)"
   ]
  },
  {
   "cell_type": "markdown",
   "id": "3439a9e9",
   "metadata": {},
   "source": [
    "10. Calculations Below"
   ]
  },
  {
   "cell_type": "code",
   "execution_count": 7,
   "id": "d08d033b",
   "metadata": {},
   "outputs": [
    {
     "data": {
      "text/html": [
       "<div>\n",
       "<style scoped>\n",
       "    .dataframe tbody tr th:only-of-type {\n",
       "        vertical-align: middle;\n",
       "    }\n",
       "\n",
       "    .dataframe tbody tr th {\n",
       "        vertical-align: top;\n",
       "    }\n",
       "\n",
       "    .dataframe thead th {\n",
       "        text-align: right;\n",
       "    }\n",
       "</style>\n",
       "<table border=\"1\" class=\"dataframe\">\n",
       "  <thead>\n",
       "    <tr style=\"text-align: right;\">\n",
       "      <th></th>\n",
       "      <th>seconds</th>\n",
       "      <th>trial 1 (V)</th>\n",
       "      <th>trial 2 (V)</th>\n",
       "      <th>trial 3 (V)</th>\n",
       "      <th>average (V)</th>\n",
       "      <th>charged (%)</th>\n",
       "      <th>calculated (V)</th>\n",
       "    </tr>\n",
       "  </thead>\n",
       "  <tbody>\n",
       "    <tr>\n",
       "      <th>1</th>\n",
       "      <td>10.00</td>\n",
       "      <td>5.82</td>\n",
       "      <td>5.12</td>\n",
       "      <td>6.10</td>\n",
       "      <td>5.68</td>\n",
       "      <td>63.20</td>\n",
       "      <td>6.32</td>\n",
       "    </tr>\n",
       "    <tr>\n",
       "      <th>2</th>\n",
       "      <td>20.00</td>\n",
       "      <td>8.20</td>\n",
       "      <td>8.20</td>\n",
       "      <td>8.20</td>\n",
       "      <td>8.20</td>\n",
       "      <td>86.50</td>\n",
       "      <td>8.65</td>\n",
       "    </tr>\n",
       "    <tr>\n",
       "      <th>3</th>\n",
       "      <td>30.00</td>\n",
       "      <td>9.21</td>\n",
       "      <td>9.21</td>\n",
       "      <td>9.19</td>\n",
       "      <td>9.20</td>\n",
       "      <td>95.00</td>\n",
       "      <td>9.50</td>\n",
       "    </tr>\n",
       "    <tr>\n",
       "      <th>4</th>\n",
       "      <td>40.00</td>\n",
       "      <td>9.60</td>\n",
       "      <td>9.61</td>\n",
       "      <td>9.60</td>\n",
       "      <td>9.60</td>\n",
       "      <td>98.20</td>\n",
       "      <td>9.82</td>\n",
       "    </tr>\n",
       "    <tr>\n",
       "      <th>5</th>\n",
       "      <td>50.00</td>\n",
       "      <td>9.84</td>\n",
       "      <td>9.85</td>\n",
       "      <td>9.85</td>\n",
       "      <td>9.85</td>\n",
       "      <td>99.30</td>\n",
       "      <td>9.93</td>\n",
       "    </tr>\n",
       "    <tr>\n",
       "      <th>12</th>\n",
       "      <td>120.00</td>\n",
       "      <td>10.01</td>\n",
       "      <td>10.02</td>\n",
       "      <td>10.02</td>\n",
       "      <td>10.02</td>\n",
       "      <td>100.00</td>\n",
       "      <td>10.00</td>\n",
       "    </tr>\n",
       "  </tbody>\n",
       "</table>\n",
       "</div>"
      ],
      "text/plain": [
       "    seconds trial 1 (V) trial 2 (V) trial 3 (V) average (V) charged (%)  \\\n",
       "1    10.00        5.82        5.12        6.10        5.68        63.20   \n",
       "2    20.00        8.20        8.20        8.20        8.20        86.50   \n",
       "3    30.00        9.21        9.21        9.19        9.20        95.00   \n",
       "4    40.00        9.60        9.61        9.60        9.60        98.20   \n",
       "5    50.00        9.84        9.85        9.85        9.85        99.30   \n",
       "12  120.00       10.01       10.02       10.02       10.02       100.00   \n",
       "\n",
       "   calculated (V)  \n",
       "1           6.32   \n",
       "2           8.65   \n",
       "3           9.50   \n",
       "4           9.82   \n",
       "5           9.93   \n",
       "12         10.00   "
      ]
     },
     "metadata": {},
     "output_type": "display_data"
    }
   ],
   "source": [
    "charge['p'] = charge.apply(\n",
    "    lambda x: change_after[min(int(x[\"seconds\"] / rc_seconds), 6)],\n",
    "    axis=1)\n",
    "charge['charged (%)'] = charge.apply(\n",
    "    lambda x: \"{:.2f}\".format(100 * x['p']),\n",
    "    axis=1)\n",
    "charge['calculated (V)'] = charge.apply(\n",
    "    lambda x: x[\"p\"] * 10,\n",
    "    axis=1)\n",
    "charge.pop('p')\n",
    "display_frame(charge)"
   ]
  },
  {
   "cell_type": "markdown",
   "id": "df98da1c",
   "metadata": {},
   "source": [
    "11. Our calculated values were consistently higher than our measured values.  I'm not sure what caused this."
   ]
  },
  {
   "cell_type": "code",
   "execution_count": 8,
   "id": "f301baad",
   "metadata": {},
   "outputs": [
    {
     "data": {
      "image/png": "[encoded data removed]",
      "text/plain": [
       "<Figure size 1080x720 with 1 Axes>"
      ]
     },
     "metadata": {
      "needs_background": "light"
     },
     "output_type": "display_data"
    }
   ],
   "source": [
    "import matplotlib.pyplot as plt\n",
    "fig = plt.figure()\n",
    "fig.set_figwidth(15)\n",
    "fig.set_figheight(10)\n",
    "ax = fig.add_subplot()\n",
    "ax.set_title(\"measured and calculated voltages during capacitor discharge\")\n",
    "ax.set_ylabel(\"volts\")\n",
    "ax.set_xlabel(\"seconds since powersupply disconnect\")\n",
    "ax.scatter(charge['seconds'], charge['average (V)'], label='measured')\n",
    "ax.scatter(charge['seconds'], charge['calculated (V)'], label='calculated')\n",
    "plt.legend(loc='lower right')\n",
    "plt.show()"
   ]
  },
  {
   "cell_type": "markdown",
   "id": "52d2ea67",
   "metadata": {},
   "source": [
    "#### C. Square-Wave Input\n",
    "\n",
    "The circuit in figure 1.7 was connected to a function generator providing a 5V<sub>pp</sub> square-wave at 50 Hz.\n",
    "\n",
    "1-3. The given components resulted in a 2ms time constant"
   ]
  },
  {
   "cell_type": "code",
   "execution_count": 9,
   "id": "e8956441",
   "metadata": {},
   "outputs": [
    {
     "name": "stdout",
     "output_type": "stream",
     "text": [
      "RC time constant: 200.0 µ s\n"
     ]
    }
   ],
   "source": [
    "cap_farads = 1e-7\n",
    "resistor_ohms = 2e3\n",
    "rc_seconds = cap_farads * resistor_ohms\n",
    "print('RC time constant:', si_format(rc_seconds), 's')"
   ]
  },
  {
   "cell_type": "markdown",
   "id": "66d07493",
   "metadata": {},
   "source": [
    "4-5. Calculations and measurements below"
   ]
  },
  {
   "cell_type": "code",
   "execution_count": 10,
   "id": "40e1e347",
   "metadata": {},
   "outputs": [
    {
     "data": {
      "text/html": [
       "<div>\n",
       "<style scoped>\n",
       "    .dataframe tbody tr th:only-of-type {\n",
       "        vertical-align: middle;\n",
       "    }\n",
       "\n",
       "    .dataframe tbody tr th {\n",
       "        vertical-align: top;\n",
       "    }\n",
       "\n",
       "    .dataframe thead th {\n",
       "        text-align: right;\n",
       "    }\n",
       "</style>\n",
       "<table border=\"1\" class=\"dataframe\">\n",
       "  <thead>\n",
       "    <tr style=\"text-align: right;\">\n",
       "      <th></th>\n",
       "      <th>Time Constants</th>\n",
       "      <th>Time</th>\n",
       "      <th>% Change</th>\n",
       "      <th>V_c Calculated</th>\n",
       "      <th>V_c Measured</th>\n",
       "    </tr>\n",
       "  </thead>\n",
       "  <tbody>\n",
       "    <tr>\n",
       "      <th>0</th>\n",
       "      <td>1.00</td>\n",
       "      <td>2 ms</td>\n",
       "      <td>0.63</td>\n",
       "      <td>3.16</td>\n",
       "      <td>3.20</td>\n",
       "    </tr>\n",
       "    <tr>\n",
       "      <th>1</th>\n",
       "      <td>2.00</td>\n",
       "      <td>4 ms</td>\n",
       "      <td>0.86</td>\n",
       "      <td>4.33</td>\n",
       "      <td>4.32</td>\n",
       "    </tr>\n",
       "    <tr>\n",
       "      <th>2</th>\n",
       "      <td>3.00</td>\n",
       "      <td>6 ms</td>\n",
       "      <td>0.95</td>\n",
       "      <td>4.75</td>\n",
       "      <td>4.72</td>\n",
       "    </tr>\n",
       "    <tr>\n",
       "      <th>3</th>\n",
       "      <td>4.00</td>\n",
       "      <td>8 ms</td>\n",
       "      <td>0.98</td>\n",
       "      <td>4.91</td>\n",
       "      <td>4.96</td>\n",
       "    </tr>\n",
       "    <tr>\n",
       "      <th>4</th>\n",
       "      <td>5.00</td>\n",
       "      <td>10 ms</td>\n",
       "      <td>0.99</td>\n",
       "      <td>4.96</td>\n",
       "      <td>5.04</td>\n",
       "    </tr>\n",
       "  </tbody>\n",
       "</table>\n",
       "</div>"
      ],
      "text/plain": [
       "  Time Constants   Time % Change V_c Calculated V_c Measured\n",
       "0          1.00    2 ms     0.63          3.16         3.20 \n",
       "1          2.00    4 ms     0.86          4.33         4.32 \n",
       "2          3.00    6 ms     0.95          4.75         4.72 \n",
       "3          4.00    8 ms     0.98          4.91         4.96 \n",
       "4          5.00   10 ms     0.99          4.96         5.04 "
      ]
     },
     "metadata": {},
     "output_type": "display_data"
    }
   ],
   "source": [
    "square = pd.DataFrame([1, 2, 3, 4, 5], columns=[\"Time Constants\"])\n",
    "square[\"Time\"] = square.apply(lambda x: \"{} ms\".format(x[\"Time Constants\"] * 2), axis=1)\n",
    "square[\"p\"] = square.apply(lambda x: change_after[int(x[\"Time Constants\"])], axis=1)\n",
    "square[\"% Change\"] = square.apply(lambda x: \"{:.2f}\".format(x[\"p\"]), axis=1)\n",
    "\n",
    "# Voltage ✕  \n",
    "square[\"V_c Calculated\"] = square.apply(lambda x: x[\"p\"] * 5, axis=1)\n",
    "\n",
    "\n",
    "square[\"V_c Measured\"] = [3.20, 4.32, 4.72, 4.96, 5.04]\n",
    "\n",
    "square.pop(\"p\")\n",
    "display_frame(square)"
   ]
  },
  {
   "cell_type": "markdown",
   "id": "006c14e9",
   "metadata": {},
   "source": [
    "### 2. Reactance of a Capacitor\n",
    "\n",
    "Objective 1: To verify experimentally the formula for capacitive reactance $X_c = \\frac{1}{2 \\pi f C}$\n",
    "\n",
    "1-4. Given a 0.47µF capacitor, in a circuit like figure 2.3, The following values were measured at different voltages (all 50 Hz)"
   ]
  },
  {
   "cell_type": "code",
   "execution_count": 11,
   "id": "bfa5902f",
   "metadata": {},
   "outputs": [
    {
     "data": {
      "text/html": [
       "<div>\n",
       "<style scoped>\n",
       "    .dataframe tbody tr th:only-of-type {\n",
       "        vertical-align: middle;\n",
       "    }\n",
       "\n",
       "    .dataframe tbody tr th {\n",
       "        vertical-align: top;\n",
       "    }\n",
       "\n",
       "    .dataframe thead th {\n",
       "        text-align: right;\n",
       "    }\n",
       "</style>\n",
       "<table border=\"1\" class=\"dataframe\">\n",
       "  <thead>\n",
       "    <tr style=\"text-align: right;\">\n",
       "      <th></th>\n",
       "      <th>V_c (V)</th>\n",
       "      <th>I_c (A)</th>\n",
       "      <th>Xc_ohms_law (Ω)</th>\n",
       "    </tr>\n",
       "  </thead>\n",
       "  <tbody>\n",
       "    <tr>\n",
       "      <th>5</th>\n",
       "      <td>1.78</td>\n",
       "      <td>423.00 µ</td>\n",
       "      <td>4.20 k</td>\n",
       "    </tr>\n",
       "    <tr>\n",
       "      <th>10</th>\n",
       "      <td>3.45</td>\n",
       "      <td>823.00 µ</td>\n",
       "      <td>4.18 k</td>\n",
       "    </tr>\n",
       "    <tr>\n",
       "      <th>15</th>\n",
       "      <td>5.14</td>\n",
       "      <td>1.25 m</td>\n",
       "      <td>4.12 k</td>\n",
       "    </tr>\n",
       "  </tbody>\n",
       "</table>\n",
       "</div>"
      ],
      "text/plain": [
       "   V_c (V)   I_c (A) Xc_ohms_law (Ω)\n",
       "5    1.78   423.00 µ          4.20 k\n",
       "10   3.45   823.00 µ          4.18 k\n",
       "15   5.14     1.25 m          4.12 k"
      ]
     },
     "metadata": {},
     "output_type": "display_data"
    }
   ],
   "source": [
    "columns = [\"V_c (V)\", \"I_c (A)\", \"Xc_ohms_law (Ω)\"]\n",
    "reactance = pd.DataFrame.from_dict({\n",
    "    5: [1.78, 423e-6, 4.2e3],\n",
    "    10: [3.45, 823e-6, 4.18e3],\n",
    "    15: [5.14, 1.25e-3, 4.12e3],\n",
    "}, orient='index', columns=columns)\n",
    "display_frame(reactance)"
   ]
  },
  {
   "cell_type": "markdown",
   "id": "5831b342",
   "metadata": {},
   "source": [
    "5. The following reactance was calculated:"
   ]
  },
  {
   "cell_type": "code",
   "execution_count": 12,
   "id": "5ccffee0",
   "metadata": {},
   "outputs": [
    {
     "name": "stdout",
     "output_type": "stream",
     "text": [
      "6.8 k Ω\n"
     ]
    }
   ],
   "source": [
    "f = 50\n",
    "c = 0.47e-6\n",
    "pi = 3.14159\n",
    "xc = 1 / (2 * pi * f * c)\n",
    "print(si_format(xc), \"Ω\")"
   ]
  },
  {
   "cell_type": "markdown",
   "id": "94cbdb37",
   "metadata": {},
   "source": [
    "I don't know why this value doesn't match the measured ones above, The same capacitor was used in later sections where measured and calculated values matched, so I don't think it's faulty.  The discrepancy would be explained if perhaps we had bumped the frequency knob at some point and it was actually set to 80Hz."
   ]
  },
  {
   "cell_type": "code",
   "execution_count": 13,
   "id": "0ff31a92",
   "metadata": {},
   "outputs": [
    {
     "name": "stdout",
     "output_type": "stream",
     "text": [
      "4.2 k Ω\n"
     ]
    }
   ],
   "source": [
    "f = 80\n",
    "c = 0.47e-6\n",
    "pi = 3.14159\n",
    "xc = 1 / (2 * pi * f * c)\n",
    "print(si_format(xc), \"Ω\")"
   ]
  },
  {
   "cell_type": "markdown",
   "id": "345d888f",
   "metadata": {},
   "source": [
    "\n",
    "6-7. Using a 5.6kΩ resistor and a 1µF capacitor, the circuit in figured 2.4 was connected to 1 V (rms) of AC power.  "
   ]
  },
  {
   "cell_type": "code",
   "execution_count": 14,
   "id": "b7ebb50e",
   "metadata": {},
   "outputs": [
    {
     "data": {
      "text/html": [
       "<div>\n",
       "<style scoped>\n",
       "    .dataframe tbody tr th:only-of-type {\n",
       "        vertical-align: middle;\n",
       "    }\n",
       "\n",
       "    .dataframe tbody tr th {\n",
       "        vertical-align: top;\n",
       "    }\n",
       "\n",
       "    .dataframe thead th {\n",
       "        text-align: right;\n",
       "    }\n",
       "</style>\n",
       "<table border=\"1\" class=\"dataframe\">\n",
       "  <thead>\n",
       "    <tr style=\"text-align: right;\">\n",
       "      <th></th>\n",
       "      <th>V_p2p_c (V)</th>\n",
       "      <th>V_p2p_r (V)</th>\n",
       "      <th>Xc_ohms_law (Ω)</th>\n",
       "    </tr>\n",
       "  </thead>\n",
       "  <tbody>\n",
       "    <tr>\n",
       "      <th>1</th>\n",
       "      <td>1.44</td>\n",
       "      <td>2.64</td>\n",
       "      <td>3.05 k</td>\n",
       "    </tr>\n",
       "  </tbody>\n",
       "</table>\n",
       "</div>"
      ],
      "text/plain": [
       "  V_p2p_c (V) V_p2p_r (V) Xc_ohms_law (Ω)\n",
       "1       1.44        2.64           3.05 k"
      ]
     },
     "metadata": {},
     "output_type": "display_data"
    }
   ],
   "source": [
    "columns = [\"V_p2p_c (V)\", \"V_p2p_r (V)\"]\n",
    "reactance = pd.DataFrame.from_dict({\n",
    "    1: [1.44, 2.64],\n",
    "}, orient='index', columns=columns)\n",
    "reactance[\"Xc_ohms_law (Ω)\"] = reactance.apply(lambda x: (x[columns[0]] / x[columns[1]]) * 5.6e3, axis=1)\n",
    "\n",
    "display_frame(reactance)"
   ]
  },
  {
   "cell_type": "markdown",
   "id": "7f8f8efe",
   "metadata": {},
   "source": [
    "8. The following reactance was caclulated:"
   ]
  },
  {
   "cell_type": "code",
   "execution_count": 15,
   "id": "d2c968e9",
   "metadata": {},
   "outputs": [
    {
     "name": "stdout",
     "output_type": "stream",
     "text": [
      "3.2 k Ω\n"
     ]
    }
   ],
   "source": [
    "f = 50\n",
    "c = 1e-6\n",
    "pi = 3.14159\n",
    "xc = 1 / (2 * pi * f * c)\n",
    "print(si_format(xc), \"Ω\")"
   ]
  },
  {
   "cell_type": "markdown",
   "id": "90c4ce61",
   "metadata": {},
   "source": [
    "### 3. Capacitors in Series and Parallel\n",
    "\n",
    "Objective 1: To verify experimentally that the total capacitance  $C_T$ of capacitors connected in series is:\n",
    "$$\n",
    "\\frac{1}{C_T} = \\frac{1}{C_1} + \\frac{1}{C_2} ... \\frac{1}{C_n}\n",
    "$$\n",
    "\n",
    "Objective 2: To verify experimentally that the total capacitance  $C_T$ of capacitors connected in parallel is:\n",
    "$$\n",
    "C_T = C_1 + C_2 ... C_n\n",
    "$$"
   ]
  },
  {
   "cell_type": "markdown",
   "id": "9374e83c",
   "metadata": {},
   "source": [
    "#### A. Series"
   ]
  },
  {
   "cell_type": "markdown",
   "id": "0e1d90f0",
   "metadata": {},
   "source": [
    "1. The circuit in figure 3.3 was assembled.  The available capacitors were:"
   ]
  },
  {
   "cell_type": "code",
   "execution_count": 16,
   "id": "ba178d72",
   "metadata": {},
   "outputs": [],
   "source": [
    "c4 = 1e-6 # farads\n",
    "c5 = 0.47e-6"
   ]
  },
  {
   "cell_type": "markdown",
   "id": "b7600bea",
   "metadata": {},
   "source": [
    "2-3. First, c5 was omitted from the circuit, so only c6 was included.  Voltage was applied and voltages were measured across each component"
   ]
  },
  {
   "cell_type": "code",
   "execution_count": 17,
   "id": "4264ff79",
   "metadata": {},
   "outputs": [],
   "source": [
    "v_generated = 5 # volts (rms) AC @ 200 Hz\n",
    "v_c1 = 144e-3\n",
    "v_r = 1.75\n",
    "R = 10e3        # ohms"
   ]
  },
  {
   "cell_type": "markdown",
   "id": "227bd90e",
   "metadata": {},
   "source": [
    "4. The current and reactance was caclutated:"
   ]
  },
  {
   "cell_type": "code",
   "execution_count": 18,
   "id": "02a6953b",
   "metadata": {},
   "outputs": [
    {
     "name": "stdout",
     "output_type": "stream",
     "text": [
      "175.0 µ A\n",
      "822.9  Ω\n"
     ]
    }
   ],
   "source": [
    "def current(voltage):\n",
    "    return voltage / R\n",
    "\n",
    "def reactance(V_c, I):\n",
    "    return V_c / I\n",
    " \n",
    "i_c1 = current(v_r)\n",
    "print(si_format(i_c1), \"A\")\n",
    "\n",
    "x_c1 = reactance(v_c1, i_c1)\n",
    "print(si_format(x_c1), \"Ω\")\n"
   ]
  },
  {
   "cell_type": "markdown",
   "id": "a12566d1",
   "metadata": {},
   "source": [
    "5. The above steps were repeated, this time with only c2 in the circuit."
   ]
  },
  {
   "cell_type": "code",
   "execution_count": 19,
   "id": "4576e46c",
   "metadata": {},
   "outputs": [
    {
     "name": "stdout",
     "output_type": "stream",
     "text": [
      "I_c2 = 174.0 µ A\n",
      "X_c2 = 1.2 k Ω\n"
     ]
    }
   ],
   "source": [
    "v_c2 = 203.4e-3  # volts\n",
    "v_r = 1.74\n",
    "i_c2 = current(v_r)\n",
    "print(\"I_c2 =\", si_format(i_c2), \"A\")\n",
    "\n",
    "x_c2 = reactance(v_c2, i_c2)\n",
    "print(\"X_c2 =\", si_format(x_c2), \"Ω\")\n"
   ]
  },
  {
   "cell_type": "markdown",
   "id": "148c9365",
   "metadata": {},
   "source": [
    "6. Then we repeat one more, this time with both capacitors included"
   ]
  },
  {
   "cell_type": "code",
   "execution_count": 20,
   "id": "9fa7e9cf",
   "metadata": {},
   "outputs": [
    {
     "name": "stdout",
     "output_type": "stream",
     "text": [
      "I_both = 171.0 µ A\n",
      "X_both = 2.0 k Ω\n"
     ]
    }
   ],
   "source": [
    "v_both = 341.5e-3  # volts\n",
    "v_r = 1.71\n",
    "i_both = current(v_r)\n",
    "print(\"I_both =\", si_format(i_both), \"A\")\n",
    "\n",
    "x_both = reactance(v_both, i_both)\n",
    "print(\"X_both =\", si_format(x_both), \"Ω\")"
   ]
  },
  {
   "cell_type": "markdown",
   "id": "8ae40d97",
   "metadata": {},
   "source": [
    "We have found experimentally that\n",
    "$$\n",
    "X_{cboth} = X_{c1} + X_{c2}\n",
    "$$\n",
    "\n",
    "Substituting gives\n",
    "$$\n",
    "\\frac{1}{2 \\pi f C_{both}}  = \\frac{1}{2 \\pi f C_{1}} + \\frac{1}{2 \\pi f C_{2}}\n",
    "$$\n",
    "\n",
    "Remove a common factor of $\\frac{1}{2 \\pi f}$ and you get\n",
    "$$\n",
    "\\frac{1}{C_{both}} = \\frac{1}{C_1} + \\frac{1}{C_2}\n",
    "$$\n",
    "\n",
    "...which is what we were looking to confirm."
   ]
  },
  {
   "cell_type": "markdown",
   "id": "561d8b00",
   "metadata": {},
   "source": [
    "#### B. Parallel\n",
    "\n",
    "1. The circuit in figure 3.4 was assembled with the same components from the previous section"
   ]
  },
  {
   "cell_type": "markdown",
   "id": "3f9ce158",
   "metadata": {},
   "source": [
    "2. Again at 5V (rms) AC @ 200Hz, current was applied, and the following measurements were taken:"
   ]
  },
  {
   "cell_type": "code",
   "execution_count": 21,
   "id": "e69b9954",
   "metadata": {},
   "outputs": [],
   "source": [
    "v_cboth = 1.75    # volts\n",
    "i_both = 3.22e-3  # amps"
   ]
  },
  {
   "cell_type": "markdown",
   "id": "9a5a80cf",
   "metadata": {},
   "source": [
    "3. Given these measurements, the reactance of the two parallel capacitors is:"
   ]
  },
  {
   "cell_type": "code",
   "execution_count": 22,
   "id": "827d9503",
   "metadata": {},
   "outputs": [
    {
     "name": "stdout",
     "output_type": "stream",
     "text": [
      "X_both= 543.48  Ω\n"
     ]
    }
   ],
   "source": [
    "x_both = reactance(v_cboth, i_both)\n",
    "print(\"X_both=\", si_format(x_both, precision=2), \"Ω\")"
   ]
  },
  {
   "cell_type": "code",
   "execution_count": 23,
   "id": "a6837188",
   "metadata": {},
   "outputs": [
    {
     "name": "stdout",
     "output_type": "stream",
     "text": [
      "C_both_measured = 1.46 µ F\n"
     ]
    }
   ],
   "source": [
    "def reactance_to_capacitance(x, freq):\n",
    "    return 1 / (2 * 3.14159 * freq * x)\n",
    "c_both = reactance_to_capacitance(x_both, 200)\n",
    "print(\"C_both_measured =\", si_format(c_both, precision=2), 'F')"
   ]
  },
  {
   "cell_type": "code",
   "execution_count": 24,
   "id": "90c8e17b",
   "metadata": {},
   "outputs": [
    {
     "name": "stdout",
     "output_type": "stream",
     "text": [
      "C_both_theoretical = 1.47 µ\n"
     ]
    }
   ],
   "source": [
    "print(\"C_both_theoretical =\", si_format(c4 + c5, precision=2))"
   ]
  },
  {
   "cell_type": "markdown",
   "id": "b8259b97",
   "metadata": {},
   "source": [
    "4. Adding a third capacitor gives the following:"
   ]
  },
  {
   "cell_type": "code",
   "execution_count": 25,
   "id": "9a2e2f33",
   "metadata": {},
   "outputs": [],
   "source": [
    "c3 = 1e-6         # farads \n",
    "v_cthree = 1.72    # volts\n",
    "i_three = 5.31e-3  # amps"
   ]
  },
  {
   "cell_type": "markdown",
   "id": "1f59f237",
   "metadata": {},
   "source": [
    "5. Which gives:"
   ]
  },
  {
   "cell_type": "code",
   "execution_count": 26,
   "id": "6c132f20",
   "metadata": {},
   "outputs": [
    {
     "name": "stdout",
     "output_type": "stream",
     "text": [
      "X_three =  323.92  Ω\n",
      "C_three_measured = 2.46 µ\n"
     ]
    }
   ],
   "source": [
    "x_three = reactance(v_cthree, i_three)\n",
    "print(\"X_three = \", si_format(x_three, precision=2), \"Ω\")\n",
    "c_three = reactance_to_capacitance(x_three, 200)\n",
    "print(\"C_three_measured =\", si_format(c_three, precision=2))"
   ]
  },
  {
   "cell_type": "code",
   "execution_count": 27,
   "id": "893e71b3",
   "metadata": {},
   "outputs": [
    {
     "name": "stdout",
     "output_type": "stream",
     "text": [
      "C_three_theoretical = 2.47 µ\n"
     ]
    }
   ],
   "source": [
    "print(\"C_three_theoretical =\", si_format(c3 + c4 + c5, precision=2))"
   ]
  },
  {
   "cell_type": "markdown",
   "id": "d8ad00cc",
   "metadata": {},
   "source": [
    "Our theoretical and measured values match closely. "
   ]
  },
  {
   "cell_type": "markdown",
   "id": "9b0969ba",
   "metadata": {},
   "source": [
    "### 4. The Capacitive Voltage Divider"
   ]
  },
  {
   "cell_type": "markdown",
   "id": "ef9577ee",
   "metadata": {},
   "source": [
    "Objective 1: To show that the voltage $V_1$ across a capacitor C1 in a series-connected capacitive voltage divider is given by the formula\n",
    "$$\n",
    "V_1 = V \\frac{C_T}{C_1}\n",
    "$$\n",
    "where V is the voltage applied across all of the capacitors and $C_T$ is the total capacitance of the series-connected capacitors.\n",
    "\n",
    "Objective 2: To verify experimentally the formula above"
   ]
  },
  {
   "cell_type": "markdown",
   "id": "131c0dfd",
   "metadata": {},
   "source": [
    "1. The following capacitors were used in a circuit like figure 4.2"
   ]
  },
  {
   "cell_type": "code",
   "execution_count": 28,
   "id": "a7dbbcd0",
   "metadata": {},
   "outputs": [],
   "source": [
    "c1 = c2 = c3 = 1e-6  # farads\n",
    "c4 = 0.47e-6\n",
    "v = 1.76 # volts"
   ]
  },
  {
   "cell_type": "markdown",
   "id": "6a21d2f4",
   "metadata": {},
   "source": [
    "2-8. 6V of AC current was applied at 200Hz, the following measurements were made"
   ]
  },
  {
   "cell_type": "code",
   "execution_count": 29,
   "id": "0275c490",
   "metadata": {},
   "outputs": [
    {
     "name": "stdout",
     "output_type": "stream",
     "text": [
      "two capacitors, both 1µF\n",
      "total capacitance: 500.00 nF\n",
      "    across c1 (1.00 µF): 0.868V was measured, 880.00 mV was calculated\n",
      "    across c2 (1.00 µF): 0.874V was measured, 880.00 mV was calculated\n",
      "\n",
      "three capacitors, all 1µF\n",
      "total capacitance: 333.33 nF\n",
      "    across c1 (1.00 µF): 0.591V was measured, 586.67 mV was calculated\n",
      "    across c2 (1.00 µF): 0.595V was measured, 586.67 mV was calculated\n",
      "    across c3 (1.00 µF): 0.558V was measured, 586.67 mV was calculated\n",
      "\n",
      "three capacitors, two 1µF, one 0.47µF\n",
      "total capacitance: 242.27 nF\n",
      "    across c2 (1.00 µF): 0.52V was measured, 426.39 mV was calculated\n",
      "    across c3 (1.00 µF): 0.488V was measured, 426.39 mV was calculated\n",
      "    across c4 (470.00 nF): 0.733V was measured, 907.22 mV was calculated\n",
      "\n"
     ]
    }
   ],
   "source": [
    "c12 = {\"c1\" : (c1, 868e-3), \"c2\": (c2, 874e-3)}  # { label: (farads, volts) }\n",
    "c123 = {\"c1\": (c1, 591e-3), \"c2\": (c2, 595e-3), \"c3\": (c3, 558e-3)}\n",
    "c234 = {\"c2\": (c2, 520e-3), \"c3\": (c3, 488e-3), \"c4\": (c4, 733e-3)}\n",
    "\n",
    "\n",
    "def analyze(arrangement, description):\n",
    "    print(description)\n",
    "    total_cap = 1 /sum([1 / x[0] for x in arrangement.values()])\n",
    "    print(f\"total capacitance: {si_format(total_cap, precision=2)}F\")\n",
    "    for name, (cap, volt) in arrangement.items():\n",
    "        calc = si_format(v * (total_cap / cap), precision=2)\n",
    "        print(f\"    across {name} ({si_format(cap, precision=2)}F): {volt}V was measured, {calc}V was calculated\")\n",
    "    print()\n",
    "    \n",
    "analyze(c12, \"two capacitors, both 1µF\")    \n",
    "analyze(c123, \"three capacitors, all 1µF\")\n",
    "analyze(c234, \"three capacitors, two 1µF, one 0.47µF\")    \n",
    "\n"
   ]
  }
 ],
 "metadata": {
  "kernelspec": {
   "display_name": "Python 3 (ipykernel)",
   "language": "python",
   "name": "python3"
  },
  "language_info": {
   "codemirror_mode": {
    "name": "ipython",
    "version": 3
   },
   "file_extension": ".py",
   "mimetype": "text/x-python",
   "name": "python",
   "nbconvert_exporter": "python",
   "pygments_lexer": "ipython3",
   "version": "3.8.10"
  }
 },
 "nbformat": 4,
 "nbformat_minor": 5
}
