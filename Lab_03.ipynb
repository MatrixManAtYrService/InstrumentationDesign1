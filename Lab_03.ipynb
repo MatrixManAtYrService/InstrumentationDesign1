{
 "cells": [
  {
   "cell_type": "markdown",
   "id": "076c23f9",
   "metadata": {},
   "source": [
    "# Instrumentation Design 1\n",
    "## Lab 3 - Parallel Series Circuit Combinations: Kircoff's voltage and current laws\n",
    "\n",
    "Lab report by Matt Rixman"
   ]
  },
  {
   "cell_type": "markdown",
   "id": "eefa9557",
   "metadata": {},
   "source": [
    "### 1. Resistance of Series-Parallel circuits\n",
    "\n",
    "Objective 1: To verify experimentally the rules for finding the total resistance Rt of a series-parallel circuit.\n",
    "\n",
    "Objective 2: To design a series-parallel network that will meet specified current requirements.\n",
    "\n",
    "The following resistors were used in the procedures below:"
   ]
  },
  {
   "cell_type": "code",
   "execution_count": 32,
   "id": "6c333a8f",
   "metadata": {},
   "outputs": [],
   "source": [
    "from si_prefix import si_format as f # used to generate the tables below\n",
    "k = 1000\n",
    "r1 = 330  # Ω\n",
    "r2 = 470\n",
    "r3 = 560\n",
    "r4 = 1.2 * k\n",
    "r5 = 2.2 * k\n",
    "r6 = 3.3 * k\n",
    "r7 = 4.7 * k\n",
    "r8 = 10 * k\n",
    "\n",
    "# for calculating the resistance of resistors in parallel\n",
    "def parallel_2(a, b):\n",
    "    return a * b / (a + b)\n",
    "\n",
    "def parallel_3(a, b, c):\n",
    "    return a * b * c / (a * b + b * c + a * c)"
   ]
  },
  {
   "cell_type": "markdown",
   "id": "ac80ac67",
   "metadata": {},
   "source": [
    "1. The above 8 resistors were connected to match figure 1.7\n",
    "2. Measured Resistances:\n",
    "| From Point | To Point |  Measured Resistance (Ω) |\n",
    "|:-|:-|:-|\n",
    "| **B** | **C** | 332.7 |\n",
    "| **A** | **D** | 1.23k |\n",
    "| **A** | **G** | 12.82k |\n"
   ]
  },
  {
   "cell_type": "markdown",
   "id": "a50ff4e6",
   "metadata": {},
   "source": [
    "3. Calculated total resistance (A-G) (Ω):\n",
    "$$\n",
    "R_{AG} = R_1 + \\frac{R_2 R_4}{R_2 + R_4} + R_3 + \\frac{R_5 (R_6 + R_7)}{R_5 + R_6 + R_7} + R_8\n",
    "$$"
   ]
  },
  {
   "cell_type": "code",
   "execution_count": 33,
   "id": "5557c8a3",
   "metadata": {},
   "outputs": [
    {
     "data": {
      "text/plain": [
       "'12.95 kΩ'"
      ]
     },
     "execution_count": 33,
     "metadata": {},
     "output_type": "execute_result"
    }
   ],
   "source": [
    "r_tot = r1 + parallel_2(r2, r4) + r3 + parallel_2(r5, r6 + r7) + r8\n",
    "f(r_tot, precision=2) + 'Ω'"
   ]
  },
  {
   "cell_type": "markdown",
   "id": "895605fe",
   "metadata": {},
   "source": [
    "4. The total measured resistance was 12.82kΩ which compares favorably with the calculated value of 12.95kΩ\n",
    "5. Starting from the layout in fig 1.9 and targeting 5 mA at 10V, we chose to replace $R_2$ with $R_9$"
   ]
  },
  {
   "cell_type": "code",
   "execution_count": 34,
   "id": "ee13f268",
   "metadata": {},
   "outputs": [],
   "source": [
    "r9 = 200 # Ω"
   ]
  },
  {
   "cell_type": "markdown",
   "id": "bf9e48a6",
   "metadata": {},
   "source": [
    "$$\n",
    "R_{calculated} = R_1 + \\frac{R_5 (R_6 + R_4)}{R_5 + (R_6 + R_4)} + R_9\n",
    "$$"
   ]
  },
  {
   "cell_type": "code",
   "execution_count": 35,
   "id": "b3ed7f0f",
   "metadata": {},
   "outputs": [
    {
     "data": {
      "text/plain": [
       "'2 kΩ'"
      ]
     },
     "execution_count": 35,
     "metadata": {},
     "output_type": "execute_result"
    }
   ],
   "source": [
    "r_tot = r1 + parallel_2(r5, r6 + r4) + r9\n",
    "f(r_tot, precision=0) + 'Ω'"
   ]
  },
  {
   "cell_type": "markdown",
   "id": "8e3830d3",
   "metadata": {},
   "source": [
    "6. The circuit described in step 5 measured 1.96kΩ, and drew 4.90mA when 10v was applied"
   ]
  },
  {
   "cell_type": "markdown",
   "id": "3dd10c1b",
   "metadata": {},
   "source": [
    "### 2. Kirchoff's Voltage Law\n",
    "\n",
    "Objective 1: To find a relationship between the sum of the voltage drops across series-connected resistors, and the applied voltage.\n",
    "\n",
    "Objective 2: To verify experimentally the relationship found in objective 1\n",
    "\n",
    "\n",
    "1. Using the resistor values from the previous section, we constructed a circuit similar to figure 2.4.  We anticipate its resistance will be:\n",
    "\n",
    "\n",
    "$$\n",
    "R_{calculated} = R_1 + R_2 + R_3 + R_4\n",
    "$$"
   ]
  },
  {
   "cell_type": "code",
   "execution_count": 36,
   "id": "ed4b3fc1",
   "metadata": {},
   "outputs": [
    {
     "data": {
      "text/plain": [
       "'2.56 kΩ'"
      ]
     },
     "execution_count": 36,
     "metadata": {},
     "output_type": "execute_result"
    }
   ],
   "source": [
    "r_tot = r1 + r2 + r3 + r4\n",
    "f(r1 + r2 + r3 + r4, precision=2) + 'Ω'"
   ]
  },
  {
   "cell_type": "markdown",
   "id": "6b354c4a",
   "metadata": {},
   "source": [
    "2. At 15V the total current should be \n",
    "$$\n",
    "I = \\frac{15V}{2.56\\text{k}\\Omega} = 5.86\\text{mA}\n",
    "$$\n",
    "\n",
    "This current passes through every resistor (since they're in series), so the voltage drop at any given resistor should be:\n",
    "\n",
    "$$\n",
    "V_i = 5.86\\text{mA} \\times R_i\n",
    "$$"
   ]
  },
  {
   "cell_type": "code",
   "execution_count": 37,
   "id": "6b4335c8",
   "metadata": {},
   "outputs": [],
   "source": [
    "m = .001\n",
    "def drop_3(ri):\n",
    "    return 5.86 * m * ri"
   ]
  },
  {
   "cell_type": "markdown",
   "id": "98f2985f",
   "metadata": {
    "variables": {
     " f(drop_3(r1), precision=2) ": "1.93 ",
     " f(drop_3(r2), precision=2) ": "2.75 ",
     " f(drop_3(r3), precision=2) ": "3.28 ",
     " f(drop_3(r4), precision=2) ": "7.03 ",
     " f(r1, precision=0) ": "330 ",
     " f(r2, precision=0) ": "470 ",
     " f(r3, precision=0) ": "560 ",
     " f(r4, precision=0) ": "1 k"
    }
   },
   "source": [
    "\n",
    "3. The above calculations compare favorably with the measured ones\n",
    "\n",
    "| Resistor | Resistance(Ω) | Calculated Voltage Drop (V) | Measured Voltage Drop (V) |\n",
    "|:-|:-|:-|:-|\n",
    "| r1 | {{ f(r1, precision=0) }} |{{ f(drop_3(r1), precision=2) }} | 1.94 |\n",
    "| r2 | {{ f(r2, precision=0) }} |{{ f(drop_3(r2), precision=2) }} | 2.75 |\n",
    "| r3 | {{ f(r3, precision=0) }} |{{ f(drop_3(r3), precision=2) }} | 3.29 |\n",
    "| r4 | {{ f(r4, precision=0) }} |{{ f(drop_3(r4), precision=2) }} | 7.07 |\n",
    "\n",
    "4. Repeating this procedure for the circuit in figure 2.5 gives a total resistance of\n",
    "\n",
    "$$\n",
    "R_{calculated} = R_1 + \\frac{R_2 R_3}{R_2 + R_34} + \\frac{R_5 R_6 R_7}{R_5 R_6 + R_6 R_7 + R_5 R_8}\n",
    "$$"
   ]
  },
  {
   "cell_type": "code",
   "execution_count": 38,
   "id": "2bfe471b",
   "metadata": {},
   "outputs": [
    {
     "data": {
      "text/plain": [
       "'12.82 kΩ'"
      ]
     },
     "execution_count": 38,
     "metadata": {},
     "output_type": "execute_result"
    }
   ],
   "source": [
    "r_tot = r1 + parallel_2(r2, r3) + r4 + parallel_3(r5, r6, r7) + r8\n",
    "f(r_tot, precision=2) + 'Ω'"
   ]
  },
  {
   "cell_type": "markdown",
   "id": "74c8c732",
   "metadata": {},
   "source": [
    "At 15V the total current should be \n",
    "$$\n",
    "I = \\frac{15V}{12.82\\text{k}\\Omega} = 1.17\\text{mA}\n",
    "$$\n",
    "\n",
    "This current passes through every resistor (since they're in series), so the voltage drop at any given resistor should be:\n",
    "\n",
    "$$\n",
    "V_i = 1.17\\text{mA} \\times R_i\n",
    "$$"
   ]
  },
  {
   "cell_type": "code",
   "execution_count": 39,
   "id": "ebf6e20f",
   "metadata": {},
   "outputs": [],
   "source": [
    "m = .001\n",
    "def drop_4(ri):\n",
    "    return 1.17 * m * ri"
   ]
  },
  {
   "cell_type": "markdown",
   "id": "e6b35e84",
   "metadata": {
    "variables": {
     " f(drop_4(parallel_2(r2, r3)), precision=0) ": "299 m",
     " f(drop_4(parallel_3(r5, r6, r7)), precision=2) ": "1.21 ",
     " f(drop_4(r1), precision=0) ": "386 m",
     " f(drop_4(r4), precision=2) ": "1.40 ",
     " f(drop_4(r8), precision=2) ": "11.70 ",
     " f(parallel_2(r2, r3), precision=0) ": "256 ",
     " f(parallel_3(r5, r6, r7), precision=1) ": "1.0 k",
     " f(r1, precision=0) ": "330 ",
     " f(r4, precision=1) ": "1.2 k",
     " f(r8, precision=0) ": "10 k"
    }
   },
   "source": [
    "|Measuring At| Across Resistors | Resistance(Ω) | Calculated Voltage Drop (V) | Measured Voltage Drop (V) |\n",
    "|:-|:-|:-|:-|:-|\n",
    "| V1 | r1 | {{ f(r1, precision=0) }} |{{ f(drop_4(r1), precision=0) }} | 385m |\n",
    "| V2 | r2, r3 | {{ f(parallel_2(r2, r3), precision=0) }} |{{ f(drop_4(parallel_2(r2, r3)), precision=0) }} | 298m |\n",
    "| V3 | r4 | {{ f(r4, precision=1) }} |{{ f(drop_4(r4), precision=2) }} | 1.40 |\n",
    "| V4 | r5, r6, r7 | {{ f(parallel_3(r5, r6, r7), precision=1) }} |{{ f(drop_4(parallel_3(r5, r6, r7)), precision=2) }} | 1.20 |\n",
    "| V5 | r8 | {{ f(r8, precision=0) }} |{{ f(drop_4(r8), precision=2) }} | 11.77 |"
   ]
  },
  {
   "cell_type": "markdown",
   "id": "3432b9c9",
   "metadata": {
    "variables": {
     " f(10**-6 * (547 + 360 + 253), precision=2) ": "1.16 m",
     " f(10**-6 * (586 + 490), precision=2) ": "1.08 m",
     " f(parallel_2(r2, r3), precision=0) ": "256 ",
     " f(parallel_3(r5, r6, r7), precision=0) ": "1 k",
     " f(r1, precision=0) ": "330 ",
     " f(r2, precision=0) ": "470 ",
     " f(r3, precision=0) ": "560 ",
     " f(r4, precision=1) ": "1.2 k",
     " f(r5, precision=1) ": "2.2 k",
     " f(r6, precision=1) ": "3.3 k",
     " f(r7, precision=1) ": "4.7 k",
     " f(r8, precision=0) ": "10 k"
    }
   },
   "source": [
    "### 3. Kirchoff's Current Law\n",
    "\n",
    "Objective 1: To find a relationship between the sum of the currents entering any junction of an electric circuit and the current leaving that junction.\n",
    "\n",
    "Objective 2: To verify experimentally the relationship found in objective 1\n",
    "\n",
    "1. We applied 15 Volts to the circuit from Section 2, step 4 (Figure 3.4).\n",
    "\n",
    "\n",
    "2. The following currents were measured:\n",
    "|Measuring At| After Resistor(s) | Resistance(Ω) | Measured Current (A) |\n",
    "|:-|:-|:-|:-|\n",
    "| I<sub>TA</sub> | r1 | {{ f(r1, precision=0) }} | 1.18m |\n",
    "| I<sub>TB</sub> | r2, r3 | {{ f(parallel_2(r2, r3), precision=0) }} | 298m |\n",
    "| I<sub>TC</sub> | 1.18m | {{ f(r4, precision=1) }} | 1.40 |\n",
    "| I<sub>TD</sub> | r5, r6, r7 | {{ f(parallel_3(r5, r6, r7), precision=0) }} | 1.18m |\n",
    "| I<sub>TE</sub> | r8 | {{ f(r8, precision=0) }} | 1.18 m|\n",
    "| I<sub>2</sub> | r2 | {{ f(r2, precision=0) }} | 586µ |\n",
    "| I<sub>3</sub> | r3 | {{ f(r3, precision=0) }} | 490µ |\n",
    "| I<sub>5</sub> | r5 | {{ f(r5, precision=1) }} | 547µ |\n",
    "| I<sub>6</sub> | r6 | {{ f(r6, precision=1) }} | 360µ |\n",
    "| I<sub>7</sub> | r7 | {{ f(r7, precision=1) }} | 253µ |\n",
    "\n",
    "I<sub>2</sub> + I<sub>3</sub> = {{ f(10**-6 * (586 + 490), precision=2) }}A\n",
    "\n",
    "I<sub>5</sub> + I<sub>6</sub> + I<sub>7</sub> = {{ f(10**-6 * (547 + 360 + 253), precision=2) }}A\n",
    "\n",
    "3. Targeting 6mA of current draw at 15V, we endeavored to design a circuit with a total reistance of\n",
    "$$\n",
    "\\frac{15\\text{V}}{6\\text{mA}} = 2.5\\text{k}\\Omega\n",
    "$$\n",
    "\n",
    "The following resistors achieve the target resistance\n",
    "\n",
    "$$\n",
    "330\\Omega + \\frac{1}{\n",
    "    \\frac{1}{1.7\\text{k}\\Omega} + \\frac{1}{5.1\\text{k}\\Omega} + \\frac{1}{3.4\\text{k}\\Omega}\n",
    "    } + 1.2\\text{k}\\Omega = 2.5\\text{k}\\Omega \n",
    "$$\n",
    "\n",
    "4. The current through each resistor was measured, and appears in the diagram:\n",
    "\n",
    "![](circuit1.png)\n",
    "\n",
    "The three parallel resistors were chosen such that R<sub>2</sub> is half of R<sub>4</sub>, and R<sub>3</sub> is thrice R<sub>2</sub>.  The other two resistors were chosen to achieve to desired total resistance."
   ]
  }
 ],
 "metadata": {
  "kernelspec": {
   "display_name": "Python 3 (ipykernel)",
   "language": "python",
   "name": "python3"
  },
  "language_info": {
   "codemirror_mode": {
    "name": "ipython",
    "version": 3
   },
   "file_extension": ".py",
   "mimetype": "text/x-python",
   "name": "python",
   "nbconvert_exporter": "python",
   "pygments_lexer": "ipython3",
   "version": "3.9.7"
  }
 },
 "nbformat": 4,
 "nbformat_minor": 5
}
