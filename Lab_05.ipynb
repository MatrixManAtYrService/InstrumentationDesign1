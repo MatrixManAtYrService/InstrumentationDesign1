{
 "cells": [
  {
   "cell_type": "markdown",
   "id": "076c23f9",
   "metadata": {},
   "source": [
    "# Instrumentation Design 1\n",
    "## Lab 5 - DC-Circuits Theorems, Part 1\n",
    "\n",
    "Lab report by Matt Rixman"
   ]
  },
  {
   "cell_type": "markdown",
   "id": "eefa9557",
   "metadata": {},
   "source": [
    "### 1. Solving circuits using mesh currents\n",
    "\n",
    "Objective 1: To learn what is meant by a linear circuit\n",
    "\n",
    "Objective 2: To verify experimentally the currents calculated by the mesh current method\n",
    "\n",
    "1-4.  The following resistors were arranged according to Figure 1.4. The power supply was set at 10V each resistor's voltage drop was measured."
   ]
  },
  {
   "cell_type": "code",
   "execution_count": 1,
   "id": "6c333a8f",
   "metadata": {},
   "outputs": [
    {
     "data": {
      "text/html": [
       "<div>\n",
       "<style scoped>\n",
       "    .dataframe tbody tr th:only-of-type {\n",
       "        vertical-align: middle;\n",
       "    }\n",
       "\n",
       "    .dataframe tbody tr th {\n",
       "        vertical-align: top;\n",
       "    }\n",
       "\n",
       "    .dataframe thead th {\n",
       "        text-align: right;\n",
       "    }\n",
       "</style>\n",
       "<table border=\"1\" class=\"dataframe\">\n",
       "  <thead>\n",
       "    <tr style=\"text-align: right;\">\n",
       "      <th></th>\n",
       "      <th>ohms</th>\n",
       "      <th>volts</th>\n",
       "    </tr>\n",
       "  </thead>\n",
       "  <tbody>\n",
       "    <tr>\n",
       "      <th>R_1</th>\n",
       "      <td>1.00 k</td>\n",
       "      <td>5.62</td>\n",
       "    </tr>\n",
       "    <tr>\n",
       "      <th>R_2</th>\n",
       "      <td>1.00 k</td>\n",
       "      <td>4.11</td>\n",
       "    </tr>\n",
       "    <tr>\n",
       "      <th>R_3</th>\n",
       "      <td>1.00 k</td>\n",
       "      <td>1.54</td>\n",
       "    </tr>\n",
       "    <tr>\n",
       "      <th>R_4</th>\n",
       "      <td>1.00 k</td>\n",
       "      <td>1.03</td>\n",
       "    </tr>\n",
       "    <tr>\n",
       "      <th>R_5</th>\n",
       "      <td>1.00 k</td>\n",
       "      <td>510.00 m</td>\n",
       "    </tr>\n",
       "    <tr>\n",
       "      <th>R_6</th>\n",
       "      <td>1.00 k</td>\n",
       "      <td>1.53</td>\n",
       "    </tr>\n",
       "    <tr>\n",
       "      <th>R_load</th>\n",
       "      <td>1.00 k</td>\n",
       "      <td>510.00 m</td>\n",
       "    </tr>\n",
       "  </tbody>\n",
       "</table>\n",
       "</div>"
      ],
      "text/plain": [
       "          ohms     volts\n",
       "R_1     1.00 k     5.62 \n",
       "R_2     1.00 k     4.11 \n",
       "R_3     1.00 k     1.54 \n",
       "R_4     1.00 k     1.03 \n",
       "R_5     1.00 k  510.00 m\n",
       "R_6     1.00 k     1.53 \n",
       "R_load  1.00 k  510.00 m"
      ]
     },
     "metadata": {},
     "output_type": "display_data"
    }
   ],
   "source": [
    "# nothing to see here\n",
    "import pandas as pd\n",
    "from si_prefix import si_format\n",
    "from IPython.display import display\n",
    "from sympy import symbols, Eq\n",
    "\n",
    "def display_frame(frame):\n",
    "    display(frame.applymap(lambda x: si_format(x, precision=2)))\n",
    "\n",
    "r1, r2, r3, r4, r5, r6, rload = symbols('R_1 R_2 R_3 R_4 R_5 R_6 R_load')\n",
    "\n",
    "circuit = pd.DataFrame.from_dict({\n",
    "    r1: [1000, 5.62],\n",
    "    r2: [1000, 4.11],\n",
    "    r3: [1000, 1.54],\n",
    "    r4: [1000, 1.03],\n",
    "    r5: [1000, 0.51],\n",
    "    r6: [1000, 1.53],\n",
    "    rload: [1000, 0.51]\n",
    "}, orient='index', columns=[\"ohms\", \"volts\"])\n",
    "display_frame(circuit)"
   ]
  },
  {
   "cell_type": "markdown",
   "id": "8a217ef3",
   "metadata": {},
   "source": [
    "5. From these voltages we can determine the currents through each resistor"
   ]
  },
  {
   "cell_type": "code",
   "execution_count": 2,
   "id": "667d987c",
   "metadata": {},
   "outputs": [
    {
     "data": {
      "text/html": [
       "<div>\n",
       "<style scoped>\n",
       "    .dataframe tbody tr th:only-of-type {\n",
       "        vertical-align: middle;\n",
       "    }\n",
       "\n",
       "    .dataframe tbody tr th {\n",
       "        vertical-align: top;\n",
       "    }\n",
       "\n",
       "    .dataframe thead th {\n",
       "        text-align: right;\n",
       "    }\n",
       "</style>\n",
       "<table border=\"1\" class=\"dataframe\">\n",
       "  <thead>\n",
       "    <tr style=\"text-align: right;\">\n",
       "      <th></th>\n",
       "      <th>ohms</th>\n",
       "      <th>volts</th>\n",
       "      <th>amps</th>\n",
       "    </tr>\n",
       "  </thead>\n",
       "  <tbody>\n",
       "    <tr>\n",
       "      <th>R_1</th>\n",
       "      <td>1.00 k</td>\n",
       "      <td>5.62</td>\n",
       "      <td>5.62 m</td>\n",
       "    </tr>\n",
       "    <tr>\n",
       "      <th>R_2</th>\n",
       "      <td>1.00 k</td>\n",
       "      <td>4.11</td>\n",
       "      <td>4.11 m</td>\n",
       "    </tr>\n",
       "    <tr>\n",
       "      <th>R_3</th>\n",
       "      <td>1.00 k</td>\n",
       "      <td>1.54</td>\n",
       "      <td>1.54 m</td>\n",
       "    </tr>\n",
       "    <tr>\n",
       "      <th>R_4</th>\n",
       "      <td>1.00 k</td>\n",
       "      <td>1.03</td>\n",
       "      <td>1.03 m</td>\n",
       "    </tr>\n",
       "    <tr>\n",
       "      <th>R_5</th>\n",
       "      <td>1.00 k</td>\n",
       "      <td>510.00 m</td>\n",
       "      <td>510.00 µ</td>\n",
       "    </tr>\n",
       "    <tr>\n",
       "      <th>R_6</th>\n",
       "      <td>1.00 k</td>\n",
       "      <td>1.53</td>\n",
       "      <td>1.53 m</td>\n",
       "    </tr>\n",
       "    <tr>\n",
       "      <th>R_load</th>\n",
       "      <td>1.00 k</td>\n",
       "      <td>510.00 m</td>\n",
       "      <td>510.00 µ</td>\n",
       "    </tr>\n",
       "  </tbody>\n",
       "</table>\n",
       "</div>"
      ],
      "text/plain": [
       "          ohms     volts      amps\n",
       "R_1     1.00 k     5.62     5.62 m\n",
       "R_2     1.00 k     4.11     4.11 m\n",
       "R_3     1.00 k     1.54     1.54 m\n",
       "R_4     1.00 k     1.03     1.03 m\n",
       "R_5     1.00 k  510.00 m  510.00 µ\n",
       "R_6     1.00 k     1.53     1.53 m\n",
       "R_load  1.00 k  510.00 m  510.00 µ"
      ]
     },
     "metadata": {},
     "output_type": "display_data"
    }
   ],
   "source": [
    "circuit['amps'] = circuit.apply(lambda x: x[\"volts\"]/x[\"ohms\"], axis=1)\n",
    "display_frame(circuit)"
   ]
  },
  {
   "cell_type": "markdown",
   "id": "a84daaef",
   "metadata": {},
   "source": [
    "6. Before we calculate the mesh currents, let's name some points so that directionality is easy to talk about"
   ]
  },
  {
   "cell_type": "code",
   "execution_count": 3,
   "id": "71e29741",
   "metadata": {},
   "outputs": [
    {
     "data": {
      "image/png": "[encoded data removed]"
     },
     "metadata": {
      "image/png": {
       "height": 311,
       "width": 627
      }
     },
     "output_type": "display_data"
    }
   ],
   "source": [
    "from lcapy import Circuit\n",
    "Circuit(\"\"\"\n",
    "V 1 6 {10}; down\n",
    "SW 1 2 no; up\n",
    "R1 2 3; right=1.5\n",
    "R3 3 4; right=1.5\n",
    "R5 4 5; right=1.5\n",
    "W 6 7; right\n",
    "R6 7 8; right\n",
    "W 8 9; right\n",
    "Rload 9 5; up\n",
    "R2 3 7; down\n",
    "R4 4 8; down\n",
    "A1 2; l=A, anchor=south\n",
    "A2 3; l=B, anchor=south\n",
    "A3 4; l=C, anchor=south\n",
    "A4 5; l=D, anchor=south\n",
    "A6 6; l=E, anchor=north\n",
    "A7 7; l=F, anchor=north\n",
    "A8 8; l=G, anchor=north\n",
    "A9 9; l=H, anchor=north\n",
    "\"\"\").draw(label_ids=False, draw_nodes=False, label_nodes=False)\n",
    "\n",
    "# lookups for mapping betwee resistors and their segments\n",
    "vea, vab, vbc, vcd, vdh, vgf, vbf, vcg, vdh = \\\n",
    "    symbols('V_ea V_ab V_bc V_cd V_dh V_gf V_bf V_cg V_dh')\n",
    "r2v = {\n",
    "    r1 : vab,\n",
    "    r2 : vbf,\n",
    "    r3 : vbc,\n",
    "    r4 : vcg,\n",
    "    r5 : vcd,\n",
    "    r6 : vgf,\n",
    "    rload: vdh\n",
    "}\n",
    "v2r = { v: k for k, v in r2v.items() }"
   ]
  },
  {
   "cell_type": "markdown",
   "id": "0563bebe",
   "metadata": {},
   "source": [
    "Ohms law gives the voltage of each segment interms of the three mesh currents I<sub>left</sub>, I<sub>center</sub>, and I<sub>right</sub>."
   ]
  },
  {
   "cell_type": "code",
   "execution_count": 4,
   "id": "af38fe58",
   "metadata": {},
   "outputs": [
    {
     "data": {
      "image/png": "[encoded data removed]",
      "text/latex": [
       "$\\displaystyle V_{ea} = 10$"
      ],
      "text/plain": [
       "Vₑₐ = 10"
      ]
     },
     "metadata": {},
     "output_type": "display_data"
    },
    {
     "data": {
      "image/png": "[encoded data removed]",
      "text/latex": [
       "$\\displaystyle V_{ab} = - I_{\\mathrm{left}} R_{1}$"
      ],
      "text/plain": [
       "V_ab = -I_left⋅R₁"
      ]
     },
     "metadata": {},
     "output_type": "display_data"
    },
    {
     "data": {
      "image/png": "[encoded data removed]",
      "text/latex": [
       "$\\displaystyle V_{bf} = R_{2} \\left(I_{\\mathrm{center}} - I_{\\mathrm{left}}\\right)$"
      ],
      "text/plain": [
       "V_bf = R₂⋅(I_center - I_left)"
      ]
     },
     "metadata": {},
     "output_type": "display_data"
    },
    {
     "data": {
      "image/png": "[encoded data removed]",
      "text/latex": [
       "$\\displaystyle V_{bc} = - I_{\\mathrm{center}} R_{3}$"
      ],
      "text/plain": [
       "V_bc = -I_center⋅R₃"
      ]
     },
     "metadata": {},
     "output_type": "display_data"
    },
    {
     "data": {
      "image/png": "[encoded data removed]",
      "text/latex": [
       "$\\displaystyle V_{cg} = R_{4} \\left(- I_{\\mathrm{center}} + I_{\\mathrm{right}}\\right)$"
      ],
      "text/plain": [
       "V_cg = R₄⋅(-I_center + I_right)"
      ]
     },
     "metadata": {},
     "output_type": "display_data"
    },
    {
     "data": {
      "image/png": "[encoded data removed]",
      "text/latex": [
       "$\\displaystyle V_{gf} = - I_{\\mathrm{center}} R_{6}$"
      ],
      "text/plain": [
       "V_gf = -I_center⋅R₆"
      ]
     },
     "metadata": {},
     "output_type": "display_data"
    },
    {
     "data": {
      "image/png": "[encoded data removed]",
      "text/latex": [
       "$\\displaystyle V_{cd} = - I_{\\mathrm{right}} R_{5}$"
      ],
      "text/plain": [
       "V_cd = -I_right⋅R₅"
      ]
     },
     "metadata": {},
     "output_type": "display_data"
    },
    {
     "data": {
      "image/png": "[encoded data removed]",
      "text/latex": [
       "$\\displaystyle V_{dh} = - I_{\\mathrm{right}} R_{\\mathrm{load}}$"
      ],
      "text/plain": [
       "V_dh = -I_right⋅R_load"
      ]
     },
     "metadata": {},
     "output_type": "display_data"
    }
   ],
   "source": [
    "from sympy import symbols, Eq         # used for algebra\n",
    "from sympy.solvers import solve\n",
    "ileft, icenter, iright = symbols('I_left, I_center, I_right')\n",
    "\n",
    "segments = {\n",
    "    vea : +10,\n",
    "    vab : r1 * (-ileft),\n",
    "    vbf : r2 * (-ileft + icenter),\n",
    "    vbc : r3 * (-icenter),\n",
    "    vcg : r4 * (-icenter + iright),\n",
    "    vgf : r6 * (-icenter),\n",
    "    vcd : r5 * (-iright),\n",
    "    vdh : rload * (-iright)\n",
    "}\n",
    "\n",
    "segment_eq = {}\n",
    "for segment, formula in segments.items():\n",
    "    eq = Eq(segment, formula)\n",
    "    display(eq)\n",
    "    segment_eq[segment] = eq"
   ]
  },
  {
   "cell_type": "markdown",
   "id": "6fd0302a",
   "metadata": {},
   "source": [
    "Then we write equations for those mesh currents in terms of the voltage deltas."
   ]
  },
  {
   "cell_type": "code",
   "execution_count": 5,
   "id": "6a092500",
   "metadata": {},
   "outputs": [
    {
     "data": {
      "image/png": "[encoded data removed]",
      "text/latex": [
       "$\\displaystyle I_{\\mathrm{left}} = - I_{\\mathrm{left}} R_{1} + R_{2} \\left(I_{\\mathrm{center}} - I_{\\mathrm{left}}\\right) + 10$"
      ],
      "text/plain": [
       "I_left = -I_left⋅R₁ + R₂⋅(I_center - I_left) + 10"
      ]
     },
     "metadata": {},
     "output_type": "display_data"
    },
    {
     "data": {
      "image/png": "[encoded data removed]",
      "text/latex": [
       "$\\displaystyle I_{\\mathrm{center}} = - I_{\\mathrm{center}} R_{3} - I_{\\mathrm{center}} R_{6} - R_{2} \\left(I_{\\mathrm{center}} - I_{\\mathrm{left}}\\right) + R_{4} \\left(- I_{\\mathrm{center}} + I_{\\mathrm{right}}\\right)$"
      ],
      "text/plain": [
       "I_center = -I_center⋅R₃ - I_center⋅R₆ - R₂⋅(I_center - I_left) + R₄⋅(-I_center + I_right)"
      ]
     },
     "metadata": {},
     "output_type": "display_data"
    },
    {
     "data": {
      "image/png": "[encoded data removed]",
      "text/latex": [
       "$\\displaystyle I_{\\mathrm{right}} = - I_{\\mathrm{right}} R_{5} - I_{\\mathrm{right}} R_{\\mathrm{load}} - R_{4} \\left(- I_{\\mathrm{center}} + I_{\\mathrm{right}}\\right)$"
      ],
      "text/plain": [
       "I_right = -I_right⋅R₅ - I_right⋅R_load - R₄⋅(-I_center + I_right)"
      ]
     },
     "metadata": {},
     "output_type": "display_data"
    }
   ],
   "source": [
    "# if the mesh current travels the opposite way, negate\n",
    "segments[-vbf] = -1 * segments[vbf]\n",
    "segments[-vcg] = -1 * segments[vcg]\n",
    "\n",
    "mesh_paths = {\n",
    "    ileft : [vea, vab, vbf],         # clockwise from E\n",
    "    icenter: [-vbf, vbc, vcg, vgf],  # clockwise from F\n",
    "    iright: [-vcg, vcd, vdh]         # clockwise from G\n",
    "}\n",
    "\n",
    "mesh_equation = {}\n",
    "for current, path in mesh_paths.items():\n",
    "    eq = Eq(current, sum(map(lambda segment: segments[segment], path)))\n",
    "    display(eq)\n",
    "    mesh_equation[current] = eq"
   ]
  },
  {
   "cell_type": "markdown",
   "id": "afce71c1",
   "metadata": {},
   "source": [
    "And we solve the system"
   ]
  },
  {
   "cell_type": "code",
   "execution_count": 6,
   "id": "3e1df92b",
   "metadata": {},
   "outputs": [
    {
     "data": {
      "text/html": [
       "<div>\n",
       "<style scoped>\n",
       "    .dataframe tbody tr th:only-of-type {\n",
       "        vertical-align: middle;\n",
       "    }\n",
       "\n",
       "    .dataframe tbody tr th {\n",
       "        vertical-align: top;\n",
       "    }\n",
       "\n",
       "    .dataframe thead th {\n",
       "        text-align: right;\n",
       "    }\n",
       "</style>\n",
       "<table border=\"1\" class=\"dataframe\">\n",
       "  <thead>\n",
       "    <tr style=\"text-align: right;\">\n",
       "      <th></th>\n",
       "      <th>amps</th>\n",
       "    </tr>\n",
       "  </thead>\n",
       "  <tbody>\n",
       "    <tr>\n",
       "      <th>I_center</th>\n",
       "      <td>1.58 m</td>\n",
       "    </tr>\n",
       "    <tr>\n",
       "      <th>I_left</th>\n",
       "      <td>5.79 m</td>\n",
       "    </tr>\n",
       "    <tr>\n",
       "      <th>I_right</th>\n",
       "      <td>525.65 µ</td>\n",
       "    </tr>\n",
       "  </tbody>\n",
       "</table>\n",
       "</div>"
      ],
      "text/plain": [
       "              amps\n",
       "I_center    1.58 m\n",
       "I_left      5.79 m\n",
       "I_right   525.65 µ"
      ]
     },
     "execution_count": 6,
     "metadata": {},
     "output_type": "execute_result"
    }
   ],
   "source": [
    "# also equate each resistor with its resistance (so we get numbers and not expressions)\n",
    "resistor_symbols = [r1, r2, r3, r4, r5, r6, rload]\n",
    "resistor_substitutions = map(lambda r: Eq(r, circuit[\"ohms\"][r]), resistor_symbols)\n",
    "\n",
    "# then solve the system of equations\n",
    "solution = solve(list(mesh_equation.values()) \\\n",
    "                 + list(resistor_substitutions))[0]\n",
    "\n",
    "# gather mesh currents\n",
    "mesh_amps = { k : float(v) for k,v in solution.items() if k not in resistor_symbols }\n",
    "pd.DataFrame.from_dict(\n",
    "    {\n",
    "        str(k): [si_format(v, precision=2)] for k,v in mesh_amps.items()\n",
    "    }, orient=\"index\", columns=[\"amps\"])"
   ]
  },
  {
   "cell_type": "markdown",
   "id": "4415e9f8",
   "metadata": {},
   "source": [
    "7-8 Using these values, we can calculate the voltage in each resistor"
   ]
  },
  {
   "cell_type": "code",
   "execution_count": 7,
   "id": "bfb1f651",
   "metadata": {},
   "outputs": [
    {
     "data": {
      "text/html": [
       "<div>\n",
       "<style scoped>\n",
       "    .dataframe tbody tr th:only-of-type {\n",
       "        vertical-align: middle;\n",
       "    }\n",
       "\n",
       "    .dataframe tbody tr th {\n",
       "        vertical-align: top;\n",
       "    }\n",
       "\n",
       "    .dataframe thead th {\n",
       "        text-align: right;\n",
       "    }\n",
       "</style>\n",
       "<table border=\"1\" class=\"dataframe\">\n",
       "  <thead>\n",
       "    <tr style=\"text-align: right;\">\n",
       "      <th></th>\n",
       "      <th>ohms</th>\n",
       "      <th>volts</th>\n",
       "      <th>amps</th>\n",
       "      <th>volts_calculated</th>\n",
       "    </tr>\n",
       "  </thead>\n",
       "  <tbody>\n",
       "    <tr>\n",
       "      <th>R_1</th>\n",
       "      <td>1.00 k</td>\n",
       "      <td>5.62</td>\n",
       "      <td>5.62 m</td>\n",
       "      <td>5.79</td>\n",
       "    </tr>\n",
       "    <tr>\n",
       "      <th>R_2</th>\n",
       "      <td>1.00 k</td>\n",
       "      <td>4.11</td>\n",
       "      <td>4.11 m</td>\n",
       "      <td>4.21</td>\n",
       "    </tr>\n",
       "    <tr>\n",
       "      <th>R_3</th>\n",
       "      <td>1.00 k</td>\n",
       "      <td>1.54</td>\n",
       "      <td>1.54 m</td>\n",
       "      <td>1.58</td>\n",
       "    </tr>\n",
       "    <tr>\n",
       "      <th>R_4</th>\n",
       "      <td>1.00 k</td>\n",
       "      <td>1.03</td>\n",
       "      <td>1.03 m</td>\n",
       "      <td>1.05</td>\n",
       "    </tr>\n",
       "    <tr>\n",
       "      <th>R_5</th>\n",
       "      <td>1.00 k</td>\n",
       "      <td>510.00 m</td>\n",
       "      <td>510.00 µ</td>\n",
       "      <td>525.65 m</td>\n",
       "    </tr>\n",
       "    <tr>\n",
       "      <th>R_6</th>\n",
       "      <td>1.00 k</td>\n",
       "      <td>1.53</td>\n",
       "      <td>1.53 m</td>\n",
       "      <td>1.58</td>\n",
       "    </tr>\n",
       "    <tr>\n",
       "      <th>R_load</th>\n",
       "      <td>1.00 k</td>\n",
       "      <td>510.00 m</td>\n",
       "      <td>510.00 µ</td>\n",
       "      <td>525.65 m</td>\n",
       "    </tr>\n",
       "  </tbody>\n",
       "</table>\n",
       "</div>"
      ],
      "text/plain": [
       "          ohms     volts      amps volts_calculated\n",
       "R_1     1.00 k     5.62     5.62 m            5.79 \n",
       "R_2     1.00 k     4.11     4.11 m            4.21 \n",
       "R_3     1.00 k     1.54     1.54 m            1.58 \n",
       "R_4     1.00 k     1.03     1.03 m            1.05 \n",
       "R_5     1.00 k  510.00 m  510.00 µ         525.65 m\n",
       "R_6     1.00 k     1.53     1.53 m            1.58 \n",
       "R_load  1.00 k  510.00 m  510.00 µ         525.65 m"
      ]
     },
     "metadata": {},
     "output_type": "display_data"
    }
   ],
   "source": [
    "voltage_symbols = [vab, vbc, vcd, vdh, vgf, vbf, vcg, vdh]\n",
    "subs = mesh_amps.copy()\n",
    "subs.update({ r: circuit[\"ohms\"][r] for r in resistor_symbols })\n",
    "voltages = { v2r[symb]: abs(segments[symb].evalf(subs=subs)) for symb in voltage_symbols }\n",
    "circuit['volts_calculated'] = circuit.apply(lambda x: voltages[x.name], axis=1)\n",
    "display_frame(circuit)"
   ]
  },
  {
   "cell_type": "markdown",
   "id": "66d46580",
   "metadata": {},
   "source": [
    "From there, we can get the amps through each resistor  (adding the mesh currents would've worked too, but the data was handy to do it this way...)"
   ]
  },
  {
   "cell_type": "code",
   "execution_count": 8,
   "id": "78502b93",
   "metadata": {},
   "outputs": [
    {
     "data": {
      "text/html": [
       "<div>\n",
       "<style scoped>\n",
       "    .dataframe tbody tr th:only-of-type {\n",
       "        vertical-align: middle;\n",
       "    }\n",
       "\n",
       "    .dataframe tbody tr th {\n",
       "        vertical-align: top;\n",
       "    }\n",
       "\n",
       "    .dataframe thead th {\n",
       "        text-align: right;\n",
       "    }\n",
       "</style>\n",
       "<table border=\"1\" class=\"dataframe\">\n",
       "  <thead>\n",
       "    <tr style=\"text-align: right;\">\n",
       "      <th></th>\n",
       "      <th>ohms</th>\n",
       "      <th>volts</th>\n",
       "      <th>amps</th>\n",
       "      <th>volts_calculated</th>\n",
       "      <th>amps_calculated</th>\n",
       "    </tr>\n",
       "  </thead>\n",
       "  <tbody>\n",
       "    <tr>\n",
       "      <th>R_1</th>\n",
       "      <td>1.00 k</td>\n",
       "      <td>5.62</td>\n",
       "      <td>5.62 m</td>\n",
       "      <td>5.79</td>\n",
       "      <td>5.79 m</td>\n",
       "    </tr>\n",
       "    <tr>\n",
       "      <th>R_2</th>\n",
       "      <td>1.00 k</td>\n",
       "      <td>4.11</td>\n",
       "      <td>4.11 m</td>\n",
       "      <td>4.21</td>\n",
       "      <td>4.21 m</td>\n",
       "    </tr>\n",
       "    <tr>\n",
       "      <th>R_3</th>\n",
       "      <td>1.00 k</td>\n",
       "      <td>1.54</td>\n",
       "      <td>1.54 m</td>\n",
       "      <td>1.58</td>\n",
       "      <td>1.58 m</td>\n",
       "    </tr>\n",
       "    <tr>\n",
       "      <th>R_4</th>\n",
       "      <td>1.00 k</td>\n",
       "      <td>1.03</td>\n",
       "      <td>1.03 m</td>\n",
       "      <td>1.05</td>\n",
       "      <td>1.05 m</td>\n",
       "    </tr>\n",
       "    <tr>\n",
       "      <th>R_5</th>\n",
       "      <td>1.00 k</td>\n",
       "      <td>510.00 m</td>\n",
       "      <td>510.00 µ</td>\n",
       "      <td>525.65 m</td>\n",
       "      <td>525.65 µ</td>\n",
       "    </tr>\n",
       "    <tr>\n",
       "      <th>R_6</th>\n",
       "      <td>1.00 k</td>\n",
       "      <td>1.53</td>\n",
       "      <td>1.53 m</td>\n",
       "      <td>1.58</td>\n",
       "      <td>1.58 m</td>\n",
       "    </tr>\n",
       "    <tr>\n",
       "      <th>R_load</th>\n",
       "      <td>1.00 k</td>\n",
       "      <td>510.00 m</td>\n",
       "      <td>510.00 µ</td>\n",
       "      <td>525.65 m</td>\n",
       "      <td>525.65 µ</td>\n",
       "    </tr>\n",
       "  </tbody>\n",
       "</table>\n",
       "</div>"
      ],
      "text/plain": [
       "          ohms     volts      amps volts_calculated amps_calculated\n",
       "R_1     1.00 k     5.62     5.62 m            5.79           5.79 m\n",
       "R_2     1.00 k     4.11     4.11 m            4.21           4.21 m\n",
       "R_3     1.00 k     1.54     1.54 m            1.58           1.58 m\n",
       "R_4     1.00 k     1.03     1.03 m            1.05           1.05 m\n",
       "R_5     1.00 k  510.00 m  510.00 µ         525.65 m        525.65 µ\n",
       "R_6     1.00 k     1.53     1.53 m            1.58           1.58 m\n",
       "R_load  1.00 k  510.00 m  510.00 µ         525.65 m        525.65 µ"
      ]
     },
     "metadata": {},
     "output_type": "display_data"
    }
   ],
   "source": [
    "circuit['amps_calculated'] = circuit.apply(lambda x: x[\"volts_calculated\"]/x[\"ohms\"], axis=1)\n",
    "display_frame(circuit)"
   ]
  },
  {
   "cell_type": "code",
   "execution_count": null,
   "id": "80edbeb0",
   "metadata": {},
   "outputs": [],
   "source": []
  }
 ],
 "metadata": {
  "kernelspec": {
   "display_name": "Python 3 (ipykernel)",
   "language": "python",
   "name": "python3"
  },
  "language_info": {
   "codemirror_mode": {
    "name": "ipython",
    "version": 3
   },
   "file_extension": ".py",
   "mimetype": "text/x-python",
   "name": "python",
   "nbconvert_exporter": "python",
   "pygments_lexer": "ipython3",
   "version": "3.8.10"
  }
 },
 "nbformat": 4,
 "nbformat_minor": 5
}
