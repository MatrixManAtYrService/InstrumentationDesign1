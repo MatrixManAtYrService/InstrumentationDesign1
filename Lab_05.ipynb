{
 "cells": [
  {
   "cell_type": "markdown",
   "id": "076c23f9",
   "metadata": {},
   "source": [
    "# Instrumentation Design 1\n",
    "## Lab 5 - DC-Circuits Theorems, Part 1\n",
    "\n",
    "Lab report by Matt Rixman"
   ]
  },
  {
   "cell_type": "markdown",
   "id": "eefa9557",
   "metadata": {},
   "source": [
    "### 1. Solving circuits using mesh currents\n",
    "\n",
    "Objective 1: To learn what is meant by a linear circuit\n",
    "\n",
    "Objective 2: To verify experimentally the currents calculated by the mesh current method\n",
    "\n",
    "1-4.  The following resistors were arranged according to Figure 1.4. The power supply was set at 10V each resistor's voltage drop was measured."
   ]
  },
  {
   "cell_type": "code",
   "execution_count": 1,
   "id": "6c333a8f",
   "metadata": {},
   "outputs": [
    {
     "data": {
      "text/html": [
       "<div>\n",
       "<style scoped>\n",
       "    .dataframe tbody tr th:only-of-type {\n",
       "        vertical-align: middle;\n",
       "    }\n",
       "\n",
       "    .dataframe tbody tr th {\n",
       "        vertical-align: top;\n",
       "    }\n",
       "\n",
       "    .dataframe thead th {\n",
       "        text-align: right;\n",
       "    }\n",
       "</style>\n",
       "<table border=\"1\" class=\"dataframe\">\n",
       "  <thead>\n",
       "    <tr style=\"text-align: right;\">\n",
       "      <th></th>\n",
       "      <th>ohms</th>\n",
       "      <th>volts</th>\n",
       "    </tr>\n",
       "  </thead>\n",
       "  <tbody>\n",
       "    <tr>\n",
       "      <th>R_1</th>\n",
       "      <td>1.00 k</td>\n",
       "      <td>5.62</td>\n",
       "    </tr>\n",
       "    <tr>\n",
       "      <th>R_2</th>\n",
       "      <td>1.00 k</td>\n",
       "      <td>4.11</td>\n",
       "    </tr>\n",
       "    <tr>\n",
       "      <th>R_3</th>\n",
       "      <td>1.00 k</td>\n",
       "      <td>1.54</td>\n",
       "    </tr>\n",
       "    <tr>\n",
       "      <th>R_4</th>\n",
       "      <td>1.00 k</td>\n",
       "      <td>1.03</td>\n",
       "    </tr>\n",
       "    <tr>\n",
       "      <th>R_5</th>\n",
       "      <td>1.00 k</td>\n",
       "      <td>510.00 m</td>\n",
       "    </tr>\n",
       "    <tr>\n",
       "      <th>R_6</th>\n",
       "      <td>1.00 k</td>\n",
       "      <td>1.53</td>\n",
       "    </tr>\n",
       "    <tr>\n",
       "      <th>R_load</th>\n",
       "      <td>1.00 k</td>\n",
       "      <td>510.00 m</td>\n",
       "    </tr>\n",
       "  </tbody>\n",
       "</table>\n",
       "</div>"
      ],
      "text/plain": [
       "          ohms     volts\n",
       "R_1     1.00 k     5.62 \n",
       "R_2     1.00 k     4.11 \n",
       "R_3     1.00 k     1.54 \n",
       "R_4     1.00 k     1.03 \n",
       "R_5     1.00 k  510.00 m\n",
       "R_6     1.00 k     1.53 \n",
       "R_load  1.00 k  510.00 m"
      ]
     },
     "metadata": {},
     "output_type": "display_data"
    }
   ],
   "source": [
    "# nothing to see here\n",
    "import pandas as pd\n",
    "from si_prefix import si_format\n",
    "from IPython.display import display\n",
    "from sympy import symbols, Eq\n",
    "\n",
    "def display_frame(frame):\n",
    "    display(frame.applymap(lambda x: si_format(x, precision=2)))\n",
    "\n",
    "r1, r2, r3, r4, r5, r6, rload = symbols('R_1 R_2 R_3 R_4 R_5 R_6 R_load')\n",
    "\n",
    "circuit = pd.DataFrame.from_dict({\n",
    "    r1: [1000, 5.62],\n",
    "    r2: [1000, 4.11],\n",
    "    r3: [1000, 1.54],\n",
    "    r4: [1000, 1.03],\n",
    "    r5: [1000, 0.51],\n",
    "    r6: [1000, 1.53],\n",
    "    rload: [1000, 0.51]\n",
    "}, orient='index', columns=[\"ohms\", \"volts\"])\n",
    "display_frame(circuit)"
   ]
  },
  {
   "cell_type": "markdown",
   "id": "9c7990b3",
   "metadata": {},
   "source": [
    "5. From these voltages we can determine the currents through each resistor"
   ]
  },
  {
   "cell_type": "code",
   "execution_count": 2,
   "id": "e34eba62",
   "metadata": {},
   "outputs": [
    {
     "data": {
      "text/html": [
       "<div>\n",
       "<style scoped>\n",
       "    .dataframe tbody tr th:only-of-type {\n",
       "        vertical-align: middle;\n",
       "    }\n",
       "\n",
       "    .dataframe tbody tr th {\n",
       "        vertical-align: top;\n",
       "    }\n",
       "\n",
       "    .dataframe thead th {\n",
       "        text-align: right;\n",
       "    }\n",
       "</style>\n",
       "<table border=\"1\" class=\"dataframe\">\n",
       "  <thead>\n",
       "    <tr style=\"text-align: right;\">\n",
       "      <th></th>\n",
       "      <th>ohms</th>\n",
       "      <th>volts</th>\n",
       "      <th>amps</th>\n",
       "    </tr>\n",
       "  </thead>\n",
       "  <tbody>\n",
       "    <tr>\n",
       "      <th>R_1</th>\n",
       "      <td>1.00 k</td>\n",
       "      <td>5.62</td>\n",
       "      <td>5.62 m</td>\n",
       "    </tr>\n",
       "    <tr>\n",
       "      <th>R_2</th>\n",
       "      <td>1.00 k</td>\n",
       "      <td>4.11</td>\n",
       "      <td>4.11 m</td>\n",
       "    </tr>\n",
       "    <tr>\n",
       "      <th>R_3</th>\n",
       "      <td>1.00 k</td>\n",
       "      <td>1.54</td>\n",
       "      <td>1.54 m</td>\n",
       "    </tr>\n",
       "    <tr>\n",
       "      <th>R_4</th>\n",
       "      <td>1.00 k</td>\n",
       "      <td>1.03</td>\n",
       "      <td>1.03 m</td>\n",
       "    </tr>\n",
       "    <tr>\n",
       "      <th>R_5</th>\n",
       "      <td>1.00 k</td>\n",
       "      <td>510.00 m</td>\n",
       "      <td>510.00 µ</td>\n",
       "    </tr>\n",
       "    <tr>\n",
       "      <th>R_6</th>\n",
       "      <td>1.00 k</td>\n",
       "      <td>1.53</td>\n",
       "      <td>1.53 m</td>\n",
       "    </tr>\n",
       "    <tr>\n",
       "      <th>R_load</th>\n",
       "      <td>1.00 k</td>\n",
       "      <td>510.00 m</td>\n",
       "      <td>510.00 µ</td>\n",
       "    </tr>\n",
       "  </tbody>\n",
       "</table>\n",
       "</div>"
      ],
      "text/plain": [
       "          ohms     volts      amps\n",
       "R_1     1.00 k     5.62     5.62 m\n",
       "R_2     1.00 k     4.11     4.11 m\n",
       "R_3     1.00 k     1.54     1.54 m\n",
       "R_4     1.00 k     1.03     1.03 m\n",
       "R_5     1.00 k  510.00 m  510.00 µ\n",
       "R_6     1.00 k     1.53     1.53 m\n",
       "R_load  1.00 k  510.00 m  510.00 µ"
      ]
     },
     "metadata": {},
     "output_type": "display_data"
    }
   ],
   "source": [
    "circuit['amps'] = circuit.apply(lambda x: x[\"volts\"]/x[\"ohms\"], axis=1)\n",
    "display_frame(circuit)"
   ]
  },
  {
   "cell_type": "markdown",
   "id": "a84daaef",
   "metadata": {},
   "source": [
    "6. Before we calculate the mesh currents, let's name some points so that directionality is easy to talk about"
   ]
  },
  {
   "cell_type": "code",
   "execution_count": 3,
   "id": "196c32c8",
   "metadata": {},
   "outputs": [
    {
     "data": {
      "image/png": "[encoded data removed]"
     },
     "metadata": {
      "image/png": {
       "height": 311,
       "width": 627
      }
     },
     "output_type": "display_data"
    }
   ],
   "source": [
    "from lcapy import Circuit\n",
    "Circuit(\"\"\"\n",
    "V 1 6 {10}; down\n",
    "SW 1 2 no; up\n",
    "R1 2 3; right=1.5\n",
    "R3 3 4; right=1.5\n",
    "R5 4 5; right=1.5\n",
    "W 6 7; right\n",
    "R6 7 8; right\n",
    "W 8 9; right\n",
    "Rload 9 5; up\n",
    "R2 3 7; down\n",
    "R4 4 8; down\n",
    "A1 2; l=A, anchor=south\n",
    "A2 3; l=B, anchor=south\n",
    "A3 4; l=C, anchor=south\n",
    "A4 5; l=D, anchor=south\n",
    "A6 6; l=E, anchor=north\n",
    "A7 7; l=F, anchor=north\n",
    "A8 8; l=G, anchor=north\n",
    "A9 9; l=H, anchor=north\n",
    "\"\"\").draw(label_ids=False, draw_nodes=False, label_nodes=False)\n",
    "\n",
    "# lookups for mapping betwee resistors and their segments\n",
    "vea, vab, vbc, vcd, vdh, vgf, vbf, vcg, vdh = \\\n",
    "    symbols('V_ea V_ab V_bc V_cd V_dh V_gf V_bf V_cg V_dh')\n",
    "r2v = {\n",
    "    r1 : vab,\n",
    "    r2 : vbf,\n",
    "    r3 : vbc,\n",
    "    r4 : vcg,\n",
    "    r5 : vcd,\n",
    "    r6 : vgf,\n",
    "    rload: vdh\n",
    "}\n",
    "v2r = { v: k for k, v in r2v.items() }"
   ]
  },
  {
   "cell_type": "markdown",
   "id": "20954c9c",
   "metadata": {},
   "source": [
    "Ohms law gives the voltage of each segment in terms of the three mesh currents I<sub>left</sub>, I<sub>center</sub>, and I<sub>right</sub>."
   ]
  },
  {
   "cell_type": "code",
   "execution_count": 4,
   "id": "af38fe58",
   "metadata": {},
   "outputs": [
    {
     "data": {
      "image/png": "[encoded data removed]",
      "text/latex": [
       "$\\displaystyle V_{ea} = 10$"
      ],
      "text/plain": [
       "Vₑₐ = 10"
      ]
     },
     "metadata": {},
     "output_type": "display_data"
    },
    {
     "data": {
      "image/png": "[encoded data removed]",
      "text/latex": [
       "$\\displaystyle V_{ab} = - I_{\\mathrm{left}} R_{1}$"
      ],
      "text/plain": [
       "V_ab = -I_left⋅R₁"
      ]
     },
     "metadata": {},
     "output_type": "display_data"
    },
    {
     "data": {
      "image/png": "[encoded data removed]",
      "text/latex": [
       "$\\displaystyle V_{bf} = R_{2} \\left(I_{\\mathrm{center}} - I_{\\mathrm{left}}\\right)$"
      ],
      "text/plain": [
       "V_bf = R₂⋅(I_center - I_left)"
      ]
     },
     "metadata": {},
     "output_type": "display_data"
    },
    {
     "data": {
      "image/png": "[encoded data removed]",
      "text/latex": [
       "$\\displaystyle V_{bc} = - I_{\\mathrm{center}} R_{3}$"
      ],
      "text/plain": [
       "V_bc = -I_center⋅R₃"
      ]
     },
     "metadata": {},
     "output_type": "display_data"
    },
    {
     "data": {
      "image/png": "[encoded data removed]",
      "text/latex": [
       "$\\displaystyle V_{cg} = R_{4} \\left(- I_{\\mathrm{center}} + I_{\\mathrm{right}}\\right)$"
      ],
      "text/plain": [
       "V_cg = R₄⋅(-I_center + I_right)"
      ]
     },
     "metadata": {},
     "output_type": "display_data"
    },
    {
     "data": {
      "image/png": "[encoded data removed]",
      "text/latex": [
       "$\\displaystyle V_{gf} = - I_{\\mathrm{center}} R_{6}$"
      ],
      "text/plain": [
       "V_gf = -I_center⋅R₆"
      ]
     },
     "metadata": {},
     "output_type": "display_data"
    },
    {
     "data": {
      "image/png": "[encoded data removed]",
      "text/latex": [
       "$\\displaystyle V_{cd} = - I_{\\mathrm{right}} R_{5}$"
      ],
      "text/plain": [
       "V_cd = -I_right⋅R₅"
      ]
     },
     "metadata": {},
     "output_type": "display_data"
    },
    {
     "data": {
      "image/png": "[encoded data removed]",
      "text/latex": [
       "$\\displaystyle V_{dh} = - I_{\\mathrm{right}} R_{\\mathrm{load}}$"
      ],
      "text/plain": [
       "V_dh = -I_right⋅R_load"
      ]
     },
     "metadata": {},
     "output_type": "display_data"
    }
   ],
   "source": [
    "from sympy import symbols, Eq         # used for algebra\n",
    "from sympy.solvers import solve\n",
    "ileft, icenter, iright = symbols('I_left, I_center, I_right')\n",
    "\n",
    "segments = {\n",
    "    vea : +10,\n",
    "    vab : r1 * (-ileft),\n",
    "    vbf : r2 * (-ileft + icenter),\n",
    "    vbc : r3 * (-icenter),\n",
    "    vcg : r4 * (-icenter + iright),\n",
    "    vgf : r6 * (-icenter),\n",
    "    vcd : r5 * (-iright),\n",
    "    vdh : rload * (-iright)\n",
    "}\n",
    "\n",
    "segment_eq = {}\n",
    "for segment, formula in segments.items():\n",
    "    eq = Eq(segment, formula)\n",
    "    display(eq)\n",
    "    segment_eq[segment] = eq"
   ]
  },
  {
   "cell_type": "markdown",
   "id": "6fd0302a",
   "metadata": {},
   "source": [
    "Then we write equations for those mesh currents in terms of the voltage deltas."
   ]
  },
  {
   "cell_type": "code",
   "execution_count": 5,
   "id": "6a092500",
   "metadata": {},
   "outputs": [
    {
     "data": {
      "image/png": "[encoded data removed]",
      "text/latex": [
       "$\\displaystyle I_{\\mathrm{left}} = - I_{\\mathrm{left}} R_{1} + R_{2} \\left(I_{\\mathrm{center}} - I_{\\mathrm{left}}\\right) + 10$"
      ],
      "text/plain": [
       "I_left = -I_left⋅R₁ + R₂⋅(I_center - I_left) + 10"
      ]
     },
     "metadata": {},
     "output_type": "display_data"
    },
    {
     "data": {
      "image/png": "[encoded data removed]",
      "text/latex": [
       "$\\displaystyle I_{\\mathrm{center}} = - I_{\\mathrm{center}} R_{3} - I_{\\mathrm{center}} R_{6} - R_{2} \\left(I_{\\mathrm{center}} - I_{\\mathrm{left}}\\right) + R_{4} \\left(- I_{\\mathrm{center}} + I_{\\mathrm{right}}\\right)$"
      ],
      "text/plain": [
       "I_center = -I_center⋅R₃ - I_center⋅R₆ - R₂⋅(I_center - I_left) + R₄⋅(-I_center + I_right)"
      ]
     },
     "metadata": {},
     "output_type": "display_data"
    },
    {
     "data": {
      "image/png": "[encoded data removed]",
      "text/latex": [
       "$\\displaystyle I_{\\mathrm{right}} = - I_{\\mathrm{right}} R_{5} - I_{\\mathrm{right}} R_{\\mathrm{load}} - R_{4} \\left(- I_{\\mathrm{center}} + I_{\\mathrm{right}}\\right)$"
      ],
      "text/plain": [
       "I_right = -I_right⋅R₅ - I_right⋅R_load - R₄⋅(-I_center + I_right)"
      ]
     },
     "metadata": {},
     "output_type": "display_data"
    }
   ],
   "source": [
    "# if the mesh current travels the opposite way, negate\n",
    "segments[-vbf] = -1 * segments[vbf]\n",
    "segments[-vcg] = -1 * segments[vcg]\n",
    "\n",
    "mesh_paths = {\n",
    "    ileft : [vea, vab, vbf],         # clockwise from E\n",
    "    icenter: [-vbf, vbc, vcg, vgf],  # clockwise from F\n",
    "    iright: [-vcg, vcd, vdh]         # clockwise from G\n",
    "}\n",
    "\n",
    "mesh_equation = {}\n",
    "for current, path in mesh_paths.items():\n",
    "    eq = Eq(current, sum(map(lambda segment: segments[segment], path)))\n",
    "    display(eq)\n",
    "    mesh_equation[current] = eq"
   ]
  },
  {
   "cell_type": "markdown",
   "id": "a31e28c5",
   "metadata": {},
   "source": [
    "And we solve the system"
   ]
  },
  {
   "cell_type": "code",
   "execution_count": 6,
   "id": "3e1df92b",
   "metadata": {},
   "outputs": [
    {
     "data": {
      "text/html": [
       "<div>\n",
       "<style scoped>\n",
       "    .dataframe tbody tr th:only-of-type {\n",
       "        vertical-align: middle;\n",
       "    }\n",
       "\n",
       "    .dataframe tbody tr th {\n",
       "        vertical-align: top;\n",
       "    }\n",
       "\n",
       "    .dataframe thead th {\n",
       "        text-align: right;\n",
       "    }\n",
       "</style>\n",
       "<table border=\"1\" class=\"dataframe\">\n",
       "  <thead>\n",
       "    <tr style=\"text-align: right;\">\n",
       "      <th></th>\n",
       "      <th>amps</th>\n",
       "    </tr>\n",
       "  </thead>\n",
       "  <tbody>\n",
       "    <tr>\n",
       "      <th>I_center</th>\n",
       "      <td>1.58 m</td>\n",
       "    </tr>\n",
       "    <tr>\n",
       "      <th>I_left</th>\n",
       "      <td>5.79 m</td>\n",
       "    </tr>\n",
       "    <tr>\n",
       "      <th>I_right</th>\n",
       "      <td>525.65 µ</td>\n",
       "    </tr>\n",
       "  </tbody>\n",
       "</table>\n",
       "</div>"
      ],
      "text/plain": [
       "              amps\n",
       "I_center    1.58 m\n",
       "I_left      5.79 m\n",
       "I_right   525.65 µ"
      ]
     },
     "execution_count": 6,
     "metadata": {},
     "output_type": "execute_result"
    }
   ],
   "source": [
    "# also equate each resistor with its resistance (so we get numbers and not expressions)\n",
    "resistor_symbols = [r1, r2, r3, r4, r5, r6, rload]\n",
    "resistor_substitutions = map(lambda r: Eq(r, circuit[\"ohms\"][r]), resistor_symbols)\n",
    "\n",
    "# then solve the system of equations\n",
    "solution = solve(list(mesh_equation.values()) \\\n",
    "                 + list(resistor_substitutions))[0]\n",
    "\n",
    "# gather mesh currents\n",
    "mesh_amps = { k : float(v) for k,v in solution.items() if k not in resistor_symbols }\n",
    "pd.DataFrame.from_dict(\n",
    "    {\n",
    "        str(k): [si_format(v, precision=2)] for k,v in mesh_amps.items()\n",
    "    }, orient=\"index\", columns=[\"amps\"])"
   ]
  },
  {
   "cell_type": "markdown",
   "id": "43fe9349",
   "metadata": {},
   "source": [
    "7-8 Using these values, we can calculate the voltage in each resistor"
   ]
  },
  {
   "cell_type": "code",
   "execution_count": 7,
   "id": "f6c69f41",
   "metadata": {},
   "outputs": [
    {
     "data": {
      "text/html": [
       "<div>\n",
       "<style scoped>\n",
       "    .dataframe tbody tr th:only-of-type {\n",
       "        vertical-align: middle;\n",
       "    }\n",
       "\n",
       "    .dataframe tbody tr th {\n",
       "        vertical-align: top;\n",
       "    }\n",
       "\n",
       "    .dataframe thead th {\n",
       "        text-align: right;\n",
       "    }\n",
       "</style>\n",
       "<table border=\"1\" class=\"dataframe\">\n",
       "  <thead>\n",
       "    <tr style=\"text-align: right;\">\n",
       "      <th></th>\n",
       "      <th>ohms</th>\n",
       "      <th>volts</th>\n",
       "      <th>amps</th>\n",
       "      <th>volts_calculated</th>\n",
       "    </tr>\n",
       "  </thead>\n",
       "  <tbody>\n",
       "    <tr>\n",
       "      <th>R_1</th>\n",
       "      <td>1.00 k</td>\n",
       "      <td>5.62</td>\n",
       "      <td>5.62 m</td>\n",
       "      <td>5.79</td>\n",
       "    </tr>\n",
       "    <tr>\n",
       "      <th>R_2</th>\n",
       "      <td>1.00 k</td>\n",
       "      <td>4.11</td>\n",
       "      <td>4.11 m</td>\n",
       "      <td>4.21</td>\n",
       "    </tr>\n",
       "    <tr>\n",
       "      <th>R_3</th>\n",
       "      <td>1.00 k</td>\n",
       "      <td>1.54</td>\n",
       "      <td>1.54 m</td>\n",
       "      <td>1.58</td>\n",
       "    </tr>\n",
       "    <tr>\n",
       "      <th>R_4</th>\n",
       "      <td>1.00 k</td>\n",
       "      <td>1.03</td>\n",
       "      <td>1.03 m</td>\n",
       "      <td>1.05</td>\n",
       "    </tr>\n",
       "    <tr>\n",
       "      <th>R_5</th>\n",
       "      <td>1.00 k</td>\n",
       "      <td>510.00 m</td>\n",
       "      <td>510.00 µ</td>\n",
       "      <td>525.65 m</td>\n",
       "    </tr>\n",
       "    <tr>\n",
       "      <th>R_6</th>\n",
       "      <td>1.00 k</td>\n",
       "      <td>1.53</td>\n",
       "      <td>1.53 m</td>\n",
       "      <td>1.58</td>\n",
       "    </tr>\n",
       "    <tr>\n",
       "      <th>R_load</th>\n",
       "      <td>1.00 k</td>\n",
       "      <td>510.00 m</td>\n",
       "      <td>510.00 µ</td>\n",
       "      <td>525.65 m</td>\n",
       "    </tr>\n",
       "  </tbody>\n",
       "</table>\n",
       "</div>"
      ],
      "text/plain": [
       "          ohms     volts      amps volts_calculated\n",
       "R_1     1.00 k     5.62     5.62 m            5.79 \n",
       "R_2     1.00 k     4.11     4.11 m            4.21 \n",
       "R_3     1.00 k     1.54     1.54 m            1.58 \n",
       "R_4     1.00 k     1.03     1.03 m            1.05 \n",
       "R_5     1.00 k  510.00 m  510.00 µ         525.65 m\n",
       "R_6     1.00 k     1.53     1.53 m            1.58 \n",
       "R_load  1.00 k  510.00 m  510.00 µ         525.65 m"
      ]
     },
     "metadata": {},
     "output_type": "display_data"
    }
   ],
   "source": [
    "voltage_symbols = [vab, vbc, vcd, vdh, vgf, vbf, vcg, vdh]\n",
    "subs = mesh_amps.copy()\n",
    "subs.update({ r: circuit[\"ohms\"][r] for r in resistor_symbols })\n",
    "voltages = { v2r[symb]: abs(segments[symb].evalf(subs=subs)) for symb in voltage_symbols }\n",
    "circuit['volts_calculated'] = circuit.apply(lambda x: voltages[x.name], axis=1)\n",
    "display_frame(circuit)"
   ]
  },
  {
   "cell_type": "markdown",
   "id": "e3bf7cfc",
   "metadata": {},
   "source": [
    "From there, we can get the amps through each resistor  (adding the mesh currents would've worked too, but the data was handy to do it this way...)"
   ]
  },
  {
   "cell_type": "code",
   "execution_count": 8,
   "id": "3ae19791",
   "metadata": {},
   "outputs": [
    {
     "data": {
      "text/html": [
       "<div>\n",
       "<style scoped>\n",
       "    .dataframe tbody tr th:only-of-type {\n",
       "        vertical-align: middle;\n",
       "    }\n",
       "\n",
       "    .dataframe tbody tr th {\n",
       "        vertical-align: top;\n",
       "    }\n",
       "\n",
       "    .dataframe thead th {\n",
       "        text-align: right;\n",
       "    }\n",
       "</style>\n",
       "<table border=\"1\" class=\"dataframe\">\n",
       "  <thead>\n",
       "    <tr style=\"text-align: right;\">\n",
       "      <th></th>\n",
       "      <th>ohms</th>\n",
       "      <th>volts</th>\n",
       "      <th>amps</th>\n",
       "      <th>volts_calculated</th>\n",
       "      <th>amps_calculated</th>\n",
       "    </tr>\n",
       "  </thead>\n",
       "  <tbody>\n",
       "    <tr>\n",
       "      <th>R_1</th>\n",
       "      <td>1.00 k</td>\n",
       "      <td>5.62</td>\n",
       "      <td>5.62 m</td>\n",
       "      <td>5.79</td>\n",
       "      <td>5.79 m</td>\n",
       "    </tr>\n",
       "    <tr>\n",
       "      <th>R_2</th>\n",
       "      <td>1.00 k</td>\n",
       "      <td>4.11</td>\n",
       "      <td>4.11 m</td>\n",
       "      <td>4.21</td>\n",
       "      <td>4.21 m</td>\n",
       "    </tr>\n",
       "    <tr>\n",
       "      <th>R_3</th>\n",
       "      <td>1.00 k</td>\n",
       "      <td>1.54</td>\n",
       "      <td>1.54 m</td>\n",
       "      <td>1.58</td>\n",
       "      <td>1.58 m</td>\n",
       "    </tr>\n",
       "    <tr>\n",
       "      <th>R_4</th>\n",
       "      <td>1.00 k</td>\n",
       "      <td>1.03</td>\n",
       "      <td>1.03 m</td>\n",
       "      <td>1.05</td>\n",
       "      <td>1.05 m</td>\n",
       "    </tr>\n",
       "    <tr>\n",
       "      <th>R_5</th>\n",
       "      <td>1.00 k</td>\n",
       "      <td>510.00 m</td>\n",
       "      <td>510.00 µ</td>\n",
       "      <td>525.65 m</td>\n",
       "      <td>525.65 µ</td>\n",
       "    </tr>\n",
       "    <tr>\n",
       "      <th>R_6</th>\n",
       "      <td>1.00 k</td>\n",
       "      <td>1.53</td>\n",
       "      <td>1.53 m</td>\n",
       "      <td>1.58</td>\n",
       "      <td>1.58 m</td>\n",
       "    </tr>\n",
       "    <tr>\n",
       "      <th>R_load</th>\n",
       "      <td>1.00 k</td>\n",
       "      <td>510.00 m</td>\n",
       "      <td>510.00 µ</td>\n",
       "      <td>525.65 m</td>\n",
       "      <td>525.65 µ</td>\n",
       "    </tr>\n",
       "  </tbody>\n",
       "</table>\n",
       "</div>"
      ],
      "text/plain": [
       "          ohms     volts      amps volts_calculated amps_calculated\n",
       "R_1     1.00 k     5.62     5.62 m            5.79           5.79 m\n",
       "R_2     1.00 k     4.11     4.11 m            4.21           4.21 m\n",
       "R_3     1.00 k     1.54     1.54 m            1.58           1.58 m\n",
       "R_4     1.00 k     1.03     1.03 m            1.05           1.05 m\n",
       "R_5     1.00 k  510.00 m  510.00 µ         525.65 m        525.65 µ\n",
       "R_6     1.00 k     1.53     1.53 m            1.58           1.58 m\n",
       "R_load  1.00 k  510.00 m  510.00 µ         525.65 m        525.65 µ"
      ]
     },
     "metadata": {},
     "output_type": "display_data"
    }
   ],
   "source": [
    "circuit['amps_calculated'] = circuit.apply(lambda x: x[\"volts_calculated\"]/x[\"ohms\"], axis=1)\n",
    "display_frame(circuit)"
   ]
  },
  {
   "cell_type": "markdown",
   "id": "cd494f29",
   "metadata": {},
   "source": [
    "### 2. Balanced Bridge Circuit\n",
    "\n",
    "Objective 1: To find the relationship among the resistors in a blanaced-bridge circuit\n",
    "\n",
    "Objective 2: To use the relationship among resistors in a balanced bridge circuit to measure an unknown resistance"
   ]
  },
  {
   "cell_type": "markdown",
   "id": "e4e0b818",
   "metadata": {},
   "source": [
    "1-6. The circuit in figure 2.3 was assembled to include a mystery resistor.  The bridge was brought into balance and the mystery resistor's resistance was calculated:"
   ]
  },
  {
   "cell_type": "code",
   "execution_count": 9,
   "id": "62df175d",
   "metadata": {},
   "outputs": [
    {
     "data": {
      "text/html": [
       "<div>\n",
       "<style scoped>\n",
       "    .dataframe tbody tr th:only-of-type {\n",
       "        vertical-align: middle;\n",
       "    }\n",
       "\n",
       "    .dataframe tbody tr th {\n",
       "        vertical-align: top;\n",
       "    }\n",
       "\n",
       "    .dataframe thead th {\n",
       "        text-align: right;\n",
       "    }\n",
       "</style>\n",
       "<table border=\"1\" class=\"dataframe\">\n",
       "  <thead>\n",
       "    <tr style=\"text-align: right;\">\n",
       "      <th></th>\n",
       "      <th>ohms</th>\n",
       "    </tr>\n",
       "  </thead>\n",
       "  <tbody>\n",
       "    <tr>\n",
       "      <th>R_1</th>\n",
       "      <td>5.10 k</td>\n",
       "    </tr>\n",
       "    <tr>\n",
       "      <th>R_2</th>\n",
       "      <td>5.10 k</td>\n",
       "    </tr>\n",
       "    <tr>\n",
       "      <th>Pot</th>\n",
       "      <td>1.49 k</td>\n",
       "    </tr>\n",
       "    <tr>\n",
       "      <th>R_mystery_measured</th>\n",
       "      <td>1.49 k</td>\n",
       "    </tr>\n",
       "    <tr>\n",
       "      <th>R_mystery_nominal</th>\n",
       "      <td>1.50 k</td>\n",
       "    </tr>\n",
       "  </tbody>\n",
       "</table>\n",
       "</div>"
      ],
      "text/plain": [
       "                      ohms\n",
       "R_1                 5.10 k\n",
       "R_2                 5.10 k\n",
       "Pot                 1.49 k\n",
       "R_mystery_measured  1.49 k\n",
       "R_mystery_nominal   1.50 k"
      ]
     },
     "metadata": {},
     "output_type": "display_data"
    }
   ],
   "source": [
    "r1, r2, pot, rbridge, rmm, rmn = symbols('R_1 R_2 Pot R_bridge R_mystery_measured R_mystery_nominal')\n",
    "resistors = [r1, r2, pot, rbridge, rmm, rmn]\n",
    "ohms = {r1 : 5.1e3, r2: 5.1e3, rbridge: 1.49e3, pot:1.49e3, rmn:1.50e3}\n",
    "\n",
    "def show_balanced(ohms):\n",
    "    # use the wheatstone bridge formula to calculate the mystery resistor\n",
    "    balance_eq = Eq(rmm, pot * (r2 / r1))\n",
    "    ohms[rmm] =  solve(balance_eq, rmm)[0].evalf(subs=ohms)\n",
    "\n",
    "    circuit = pd.DataFrame.from_dict({ r: ohms[r] for r in resistors if r != rbridge },\n",
    "                                     orient=\"index\", columns=[\"ohms\"])\n",
    "    display_frame(circuit)\n",
    "    \n",
    "show_balanced(ohms)"
   ]
  },
  {
   "cell_type": "markdown",
   "id": "b5e7683b",
   "metadata": {},
   "source": [
    "7. The previous procedure was repeated for five additional resistors"
   ]
  },
  {
   "cell_type": "code",
   "execution_count": 10,
   "id": "38987118",
   "metadata": {},
   "outputs": [
    {
     "data": {
      "text/html": [
       "<div>\n",
       "<style scoped>\n",
       "    .dataframe tbody tr th:only-of-type {\n",
       "        vertical-align: middle;\n",
       "    }\n",
       "\n",
       "    .dataframe tbody tr th {\n",
       "        vertical-align: top;\n",
       "    }\n",
       "\n",
       "    .dataframe thead th {\n",
       "        text-align: right;\n",
       "    }\n",
       "</style>\n",
       "<table border=\"1\" class=\"dataframe\">\n",
       "  <thead>\n",
       "    <tr style=\"text-align: right;\">\n",
       "      <th></th>\n",
       "      <th>ohms_nominal</th>\n",
       "      <th>ohms_measured</th>\n",
       "    </tr>\n",
       "  </thead>\n",
       "  <tbody>\n",
       "    <tr>\n",
       "      <th>R_mystery_2</th>\n",
       "      <td>10.00 k</td>\n",
       "      <td>9.68 k</td>\n",
       "    </tr>\n",
       "    <tr>\n",
       "      <th>R_mystery_3</th>\n",
       "      <td>3.30 k</td>\n",
       "      <td>3.25 k</td>\n",
       "    </tr>\n",
       "    <tr>\n",
       "      <th>R_mystery_4</th>\n",
       "      <td>330.00</td>\n",
       "      <td>310.00</td>\n",
       "    </tr>\n",
       "    <tr>\n",
       "      <th>R_mystery_5</th>\n",
       "      <td>6.80 k</td>\n",
       "      <td>6.87 k</td>\n",
       "    </tr>\n",
       "    <tr>\n",
       "      <th>R_mystery_6</th>\n",
       "      <td>180.00</td>\n",
       "      <td>182.00</td>\n",
       "    </tr>\n",
       "  </tbody>\n",
       "</table>\n",
       "</div>"
      ],
      "text/plain": [
       "            ohms_nominal ohms_measured\n",
       "R_mystery_2      10.00 k        9.68 k\n",
       "R_mystery_3       3.30 k        3.25 k\n",
       "R_mystery_4      330.00        310.00 \n",
       "R_mystery_5       6.80 k        6.87 k\n",
       "R_mystery_6      180.00        182.00 "
      ]
     },
     "metadata": {},
     "output_type": "display_data"
    }
   ],
   "source": [
    "sample_resistors = symbols(' '.join([f\"R_mystery_{r}\" for r in range(2, 7)]))\n",
    "ohms_nominal = [10e3, 3.3e3, 330, 6.8e3, 180]\n",
    "ohms_measured = [9.68e3, 3.25e3, 310, 6.87e3, 182]\n",
    "balances = pd.DataFrame.from_dict(\n",
    "    { r : [ohms_nominal[i], ohms_measured[i]] for i, r in enumerate(sample_resistors)},\n",
    "    orient=\"index\", columns=[\"ohms_nominal\", \"ohms_measured\"]\n",
    ")\n",
    "display_frame(balances)"
   ]
  },
  {
   "cell_type": "markdown",
   "id": "cf661ec9",
   "metadata": {},
   "source": [
    "9-11. To widen the measurable range of our bridge to 30Ω, a new value for r2 and a new mystery resistor was chosen.  The bridge was rebalanced, which gave the following results:"
   ]
  },
  {
   "cell_type": "code",
   "execution_count": 11,
   "id": "7d59f0c1",
   "metadata": {},
   "outputs": [
    {
     "data": {
      "text/html": [
       "<div>\n",
       "<style scoped>\n",
       "    .dataframe tbody tr th:only-of-type {\n",
       "        vertical-align: middle;\n",
       "    }\n",
       "\n",
       "    .dataframe tbody tr th {\n",
       "        vertical-align: top;\n",
       "    }\n",
       "\n",
       "    .dataframe thead th {\n",
       "        text-align: right;\n",
       "    }\n",
       "</style>\n",
       "<table border=\"1\" class=\"dataframe\">\n",
       "  <thead>\n",
       "    <tr style=\"text-align: right;\">\n",
       "      <th></th>\n",
       "      <th>ohms</th>\n",
       "    </tr>\n",
       "  </thead>\n",
       "  <tbody>\n",
       "    <tr>\n",
       "      <th>R_1</th>\n",
       "      <td>5.10 k</td>\n",
       "    </tr>\n",
       "    <tr>\n",
       "      <th>R_2</th>\n",
       "      <td>15.30 k</td>\n",
       "    </tr>\n",
       "    <tr>\n",
       "      <th>Pot</th>\n",
       "      <td>9.60 k</td>\n",
       "    </tr>\n",
       "    <tr>\n",
       "      <th>R_mystery_measured</th>\n",
       "      <td>28.80 k</td>\n",
       "    </tr>\n",
       "    <tr>\n",
       "      <th>R_mystery_nominal</th>\n",
       "      <td>27.00</td>\n",
       "    </tr>\n",
       "  </tbody>\n",
       "</table>\n",
       "</div>"
      ],
      "text/plain": [
       "                       ohms\n",
       "R_1                  5.10 k\n",
       "R_2                 15.30 k\n",
       "Pot                  9.60 k\n",
       "R_mystery_measured  28.80 k\n",
       "R_mystery_nominal    27.00 "
      ]
     },
     "metadata": {},
     "output_type": "display_data"
    }
   ],
   "source": [
    "ohms[r2] = 15.3e3\n",
    "ohms[pot] = 9.6e3\n",
    "ohms[rmn] = 27\n",
    "show_balanced(ohms)"
   ]
  },
  {
   "cell_type": "markdown",
   "id": "8dd2b1a2",
   "metadata": {},
   "source": [
    "12-13. To further widen its range to 100Ω, new values of both r1 and r2 were chosen.  The bridge was rebalanced, which gave the following results:"
   ]
  },
  {
   "cell_type": "code",
   "execution_count": 12,
   "id": "e101c0c4",
   "metadata": {},
   "outputs": [
    {
     "data": {
      "text/html": [
       "<div>\n",
       "<style scoped>\n",
       "    .dataframe tbody tr th:only-of-type {\n",
       "        vertical-align: middle;\n",
       "    }\n",
       "\n",
       "    .dataframe tbody tr th {\n",
       "        vertical-align: top;\n",
       "    }\n",
       "\n",
       "    .dataframe thead th {\n",
       "        text-align: right;\n",
       "    }\n",
       "</style>\n",
       "<table border=\"1\" class=\"dataframe\">\n",
       "  <thead>\n",
       "    <tr style=\"text-align: right;\">\n",
       "      <th></th>\n",
       "      <th>ohms</th>\n",
       "    </tr>\n",
       "  </thead>\n",
       "  <tbody>\n",
       "    <tr>\n",
       "      <th>R_1</th>\n",
       "      <td>1.00 k</td>\n",
       "    </tr>\n",
       "    <tr>\n",
       "      <th>R_2</th>\n",
       "      <td>100.00 k</td>\n",
       "    </tr>\n",
       "    <tr>\n",
       "      <th>Pot</th>\n",
       "      <td>207.00</td>\n",
       "    </tr>\n",
       "    <tr>\n",
       "      <th>R_mystery_measured</th>\n",
       "      <td>20.70 k</td>\n",
       "    </tr>\n",
       "    <tr>\n",
       "      <th>R_mystery_nominal</th>\n",
       "      <td>22.00 k</td>\n",
       "    </tr>\n",
       "  </tbody>\n",
       "</table>\n",
       "</div>"
      ],
      "text/plain": [
       "                        ohms\n",
       "R_1                   1.00 k\n",
       "R_2                 100.00 k\n",
       "Pot                  207.00 \n",
       "R_mystery_measured   20.70 k\n",
       "R_mystery_nominal    22.00 k"
      ]
     },
     "metadata": {},
     "output_type": "display_data"
    }
   ],
   "source": [
    "ohms[r1] = 1e3\n",
    "ohms[r2] = 100e3\n",
    "ohms[pot] = 207\n",
    "ohms[rmn] = 22e3\n",
    "show_balanced(ohms)"
   ]
  },
  {
   "cell_type": "markdown",
   "id": "4ec1dab8",
   "metadata": {},
   "source": [
    "### 3. Superposition Theorem\n",
    "Objective 1: To verify experimentally the superposition theorem\n",
    "\n",
    "1-4. The circuit show below was assembled, and three configurations were measured:\n",
    "\n",
    "- 10V power supply omitted (a wire in its place)\n",
    "- 15V power suppply ommitted (a wire in its place)\n",
    "- both power supplies included"
   ]
  },
  {
   "cell_type": "code",
   "execution_count": 13,
   "id": "e8224ac3",
   "metadata": {},
   "outputs": [
    {
     "data": {
      "image/png": "[encoded data removed]"
     },
     "metadata": {
      "image/png": {
       "height": 293,
       "width": 637
      }
     },
     "output_type": "display_data"
    }
   ],
   "source": [
    "Circuit(\"\"\"\n",
    "R1 1 2 {820}; up, l=r_1\n",
    "AM1 2 3; right=2.5, l=I_1\n",
    "AM2 3 4; right=2, l=I_2\n",
    "R3 3 5 {1200}; down, l=r_3\n",
    "AM3 13 5; l=I_3\n",
    "R2 4 6 {2200}; down, l=r_2\n",
    "V2 6 7 {10}; down\n",
    "V1 1 11 {15}; down\n",
    "W 11 8; right=1.5\n",
    "W 13 8; down\n",
    "W 8 7; right\n",
    "A 1; anchor=east, l=A\n",
    "A 3; anchor=south, l=B\n",
    "A 8; anchor=north, l=C\n",
    "A 6; anchor=west, l=D\n",
    "\"\"\").draw(label_ids=False, draw_nodes=False, label_nodes=False)"
   ]
  },
  {
   "cell_type": "code",
   "execution_count": 14,
   "id": "dac2a069",
   "metadata": {},
   "outputs": [
    {
     "data": {
      "text/html": [
       "<div>\n",
       "<style scoped>\n",
       "    .dataframe tbody tr th:only-of-type {\n",
       "        vertical-align: middle;\n",
       "    }\n",
       "\n",
       "    .dataframe tbody tr th {\n",
       "        vertical-align: top;\n",
       "    }\n",
       "\n",
       "    .dataframe thead th {\n",
       "        text-align: right;\n",
       "    }\n",
       "</style>\n",
       "<table border=\"1\" class=\"dataframe\">\n",
       "  <thead>\n",
       "    <tr style=\"text-align: right;\">\n",
       "      <th></th>\n",
       "      <th>resistance (Ω)</th>\n",
       "    </tr>\n",
       "  </thead>\n",
       "  <tbody>\n",
       "    <tr>\n",
       "      <th>R_1</th>\n",
       "      <td>820</td>\n",
       "    </tr>\n",
       "    <tr>\n",
       "      <th>R_2</th>\n",
       "      <td>1200</td>\n",
       "    </tr>\n",
       "    <tr>\n",
       "      <th>R_3</th>\n",
       "      <td>2200</td>\n",
       "    </tr>\n",
       "  </tbody>\n",
       "</table>\n",
       "</div>"
      ],
      "text/plain": [
       "     resistance (Ω)\n",
       "R_1             820\n",
       "R_2            1200\n",
       "R_3            2200"
      ]
     },
     "metadata": {},
     "output_type": "display_data"
    }
   ],
   "source": [
    "ohms = pd.DataFrame.from_dict({r1: 820, r2:1200, r3:2200}, orient='index', columns=[\"resistance (Ω)\"])\n",
    "display(ohms)"
   ]
  },
  {
   "cell_type": "markdown",
   "id": "763c3989",
   "metadata": {},
   "source": [
    "These measurements were captured:"
   ]
  },
  {
   "cell_type": "code",
   "execution_count": 75,
   "id": "cb03c87d",
   "metadata": {},
   "outputs": [
    {
     "data": {
      "text/html": [
       "<div>\n",
       "<style scoped>\n",
       "    .dataframe tbody tr th:only-of-type {\n",
       "        vertical-align: middle;\n",
       "    }\n",
       "\n",
       "    .dataframe tbody tr th {\n",
       "        vertical-align: top;\n",
       "    }\n",
       "\n",
       "    .dataframe thead th {\n",
       "        text-align: right;\n",
       "    }\n",
       "</style>\n",
       "<table border=\"1\" class=\"dataframe\">\n",
       "  <thead>\n",
       "    <tr style=\"text-align: right;\">\n",
       "      <th></th>\n",
       "      <th>I1 (A)</th>\n",
       "      <th>I2 (A)</th>\n",
       "      <th>I3 (A)</th>\n",
       "      <th>V_R1 (V)</th>\n",
       "      <th>V_R2 (V)</th>\n",
       "      <th>V_R3 (V)</th>\n",
       "    </tr>\n",
       "  </thead>\n",
       "  <tbody>\n",
       "    <tr>\n",
       "      <th>15V only</th>\n",
       "      <td>9.45 m</td>\n",
       "      <td>6.11 m</td>\n",
       "      <td>3.23 m</td>\n",
       "      <td>7.76</td>\n",
       "      <td>7.32</td>\n",
       "      <td>7.32</td>\n",
       "    </tr>\n",
       "    <tr>\n",
       "      <th>10V only</th>\n",
       "      <td>3.81 m</td>\n",
       "      <td>5.57 m</td>\n",
       "      <td>1.47 m</td>\n",
       "      <td>3.32</td>\n",
       "      <td>6.66</td>\n",
       "      <td>3.32</td>\n",
       "    </tr>\n",
       "    <tr>\n",
       "      <th>both included</th>\n",
       "      <td>13.50 m</td>\n",
       "      <td>11.69 m</td>\n",
       "      <td>-1.76 m</td>\n",
       "      <td>11.07</td>\n",
       "      <td>13.97</td>\n",
       "      <td>-3.98</td>\n",
       "    </tr>\n",
       "  </tbody>\n",
       "</table>\n",
       "</div>"
      ],
      "text/plain": [
       "                I1 (A)   I2 (A)   I3 (A) V_R1 (V) V_R2 (V) V_R3 (V)\n",
       "15V only        9.45 m   6.11 m   3.23 m    7.76     7.32     7.32 \n",
       "10V only        3.81 m   5.57 m   1.47 m    3.32     6.66     3.32 \n",
       "both included  13.50 m  11.69 m  -1.76 m   11.07    13.97    -3.98 "
      ]
     },
     "metadata": {},
     "output_type": "display_data"
    }
   ],
   "source": [
    "columns = [\"I1 (A)\", \"I2 (A)\", \"I3 (A)\", \"V_R1 (V)\", \"V_R2 (V)\", \"V_R3 (V)\"]\n",
    "values = pd.DataFrame.from_dict({\"15V only\":  [ 9.45e-3,  6.11e-3, 3.23e-3, 7.76,  7.32,  7.32], \n",
    "                                 \"10V only\":   [3.81e-3,  5.57e-3, 1.47e-3, 3.32, 6.66, 3.32,], \n",
    "                                 \"both included\": [13.5e-3,  11.69e-3, -1.76e-3, 11.07, 13.97, -3.98]}, \n",
    "                                orient=\"index\",\n",
    "                                columns=columns)\n",
    "\n",
    "display_frame(values)"
   ]
  },
  {
   "cell_type": "markdown",
   "id": "19c2f85c",
   "metadata": {},
   "source": [
    "5. Calculations appear below"
   ]
  },
  {
   "cell_type": "code",
   "execution_count": 78,
   "id": "c966c702",
   "metadata": {},
   "outputs": [
    {
     "data": {
      "text/html": [
       "<div>\n",
       "<style scoped>\n",
       "    .dataframe tbody tr th:only-of-type {\n",
       "        vertical-align: middle;\n",
       "    }\n",
       "\n",
       "    .dataframe tbody tr th {\n",
       "        vertical-align: top;\n",
       "    }\n",
       "\n",
       "    .dataframe thead th {\n",
       "        text-align: right;\n",
       "    }\n",
       "</style>\n",
       "<table border=\"1\" class=\"dataframe\">\n",
       "  <thead>\n",
       "    <tr style=\"text-align: right;\">\n",
       "      <th></th>\n",
       "      <th>I1 (A)</th>\n",
       "      <th>I2 (A)</th>\n",
       "      <th>I3 (A)</th>\n",
       "      <th>V_R1 (V)</th>\n",
       "      <th>V_R2 (V)</th>\n",
       "      <th>V_R3 (V)</th>\n",
       "    </tr>\n",
       "  </thead>\n",
       "  <tbody>\n",
       "    <tr>\n",
       "      <th>10V only</th>\n",
       "      <td>3.81 m</td>\n",
       "      <td>5.57 m</td>\n",
       "      <td>1.47 m</td>\n",
       "      <td>3.32</td>\n",
       "      <td>6.66</td>\n",
       "      <td>3.32</td>\n",
       "    </tr>\n",
       "    <tr>\n",
       "      <th>10V only (calculated)</th>\n",
       "      <td>4.05 m</td>\n",
       "      <td>5.56 m</td>\n",
       "      <td>-1.51 m</td>\n",
       "      <td>-3.32</td>\n",
       "      <td>-6.68</td>\n",
       "      <td>3.32</td>\n",
       "    </tr>\n",
       "    <tr>\n",
       "      <th>15V only</th>\n",
       "      <td>9.45 m</td>\n",
       "      <td>6.11 m</td>\n",
       "      <td>3.23 m</td>\n",
       "      <td>7.76</td>\n",
       "      <td>7.32</td>\n",
       "      <td>7.32</td>\n",
       "    </tr>\n",
       "    <tr>\n",
       "      <th>15V only (calculated)</th>\n",
       "      <td>9.40 m</td>\n",
       "      <td>6.08 m</td>\n",
       "      <td>3.32 m</td>\n",
       "      <td>-7.70</td>\n",
       "      <td>-7.30</td>\n",
       "      <td>-7.30</td>\n",
       "    </tr>\n",
       "    <tr>\n",
       "      <th>both included</th>\n",
       "      <td>13.50 m</td>\n",
       "      <td>11.69 m</td>\n",
       "      <td>-1.76 m</td>\n",
       "      <td>11.07</td>\n",
       "      <td>13.97</td>\n",
       "      <td>-3.98</td>\n",
       "    </tr>\n",
       "    <tr>\n",
       "      <th>both included (calculated via superposition)</th>\n",
       "      <td>13.45 m</td>\n",
       "      <td>11.64 m</td>\n",
       "      <td>1.81 m</td>\n",
       "      <td>-11.03</td>\n",
       "      <td>-13.97</td>\n",
       "      <td>-3.97</td>\n",
       "    </tr>\n",
       "  </tbody>\n",
       "</table>\n",
       "</div>"
      ],
      "text/plain": [
       "                                               I1 (A)   I2 (A)   I3 (A)  \\\n",
       "10V only                                       3.81 m   5.57 m   1.47 m   \n",
       "10V only (calculated)                          4.05 m   5.56 m  -1.51 m   \n",
       "15V only                                       9.45 m   6.11 m   3.23 m   \n",
       "15V only (calculated)                          9.40 m   6.08 m   3.32 m   \n",
       "both included                                 13.50 m  11.69 m  -1.76 m   \n",
       "both included (calculated via superposition)  13.45 m  11.64 m   1.81 m   \n",
       "\n",
       "                                             V_R1 (V) V_R2 (V) V_R3 (V)  \n",
       "10V only                                        3.32     6.66     3.32   \n",
       "10V only (calculated)                          -3.32    -6.68     3.32   \n",
       "15V only                                        7.76     7.32     7.32   \n",
       "15V only (calculated)                          -7.70    -7.30    -7.30   \n",
       "both included                                  11.07    13.97    -3.98   \n",
       "both included (calculated via superposition)  -11.03   -13.97    -3.97   "
      ]
     },
     "metadata": {},
     "output_type": "display_data"
    }
   ],
   "source": [
    "ileft, vab, vbc, vca = symbols(\"I_left V_ab V_bc V_ca\")\n",
    "iright, vcb, vbd, vdc = symbols(\"I_right V_cb V_bd V_dc\")\n",
    "\n",
    "system = {\n",
    "    # voltage deltas\n",
    "    vca : +15,\n",
    "    vab : r1 * (-ileft),\n",
    "    vbc : r3 * (-ileft + iright),\n",
    "    vcb : -vbc,\n",
    "    vbd : r2 * (-iright),\n",
    "    vdc : 0,\n",
    "    \n",
    "    # resistor values\n",
    "    r1 : ohms['resistance (Ω)'][r1],\n",
    "    r2 : ohms['resistance (Ω)'][r2],\n",
    "    r3 : ohms['resistance (Ω)'][r3],\n",
    "}\n",
    "\n",
    "def calculate(name, left_ps, right_ps):\n",
    "    \n",
    "    system_modified = system.copy()\n",
    "    system_modified[vca] = left_ps\n",
    "    system_modified[vdc] = right_ps\n",
    "\n",
    "    # solve the above system, plus kirchoff's voltage laws\n",
    "    # (not included because 0 would be used twice as a dict key)\n",
    "    solution = solve([Eq(lhs, rhs) for lhs, rhs in system_modified.items()] \\\n",
    "          + [Eq(0, vab + vbc + vca), Eq(0, vcb + vbd + vdc)])\n",
    "\n",
    "    # extract currents and voltages\n",
    "    amps = {i : float(solution[0][i]) for i in [ileft, iright]}\n",
    "    volts = {v : float(solution[0][v]) for v in [vab, vbd, vbc]}\n",
    "\n",
    "    result = pd.DataFrame.from_dict(\n",
    "        {\n",
    "            name: \n",
    "            [amps[ileft], amps[iright], amps[ileft] - amps[iright],\n",
    "             volts[vab], volts[vbd], volts[vbc]]\n",
    "        }, orient=\"index\", columns=columns)\n",
    "    return result\n",
    "    \n",
    "# calculate with 15 v\n",
    "left_only = calculate(\"15V only (calculated)\", 15, 0)\n",
    "\n",
    "# calculate with 10 v\n",
    "right_only = calculate(\"10V only (calculated)\", 0, 10)\n",
    "\n",
    "# calculate with both via superposition theorem\n",
    "superposition = result = pd.DataFrame.from_dict(\n",
    "        {\n",
    "            \"both included (calculated via superposition)\": \n",
    "            [ left_only[c][0] + right_only[c][0] for c in columns]\n",
    "        }, orient=\"index\", columns=columns)\n",
    "\n",
    "all_together = pd.concat([values, left_only, right_only, superposition])\n",
    "display_frame(all_together.sort_index())\n",
    "\n"
   ]
  },
  {
   "cell_type": "markdown",
   "id": "d5019ec1",
   "metadata": {},
   "source": [
    "6. Until this lab, we had manged to get away with language like: \n",
    "> Voltage across r<sub>1</sub>\n",
    "\n",
    "We had assumped that negative signs could be ignored.  This lab showed us the problem with that method of capturing results.  If you look at only absolute values, our measurements agree with our calculations.\n",
    "\n",
    "But occasionally, the calculation provides a meaningful negative sign, which did not show up in the measurement.  This could have been avoided if we had instead used language like:\n",
    "> Voltage from A to B\n",
    "\n",
    "which would remove the directional ambiguity from our measurements."
   ]
  }
 ],
 "metadata": {
  "kernelspec": {
   "display_name": "Python 3 (ipykernel)",
   "language": "python",
   "name": "python3"
  },
  "language_info": {
   "codemirror_mode": {
    "name": "ipython",
    "version": 3
   },
   "file_extension": ".py",
   "mimetype": "text/x-python",
   "name": "python",
   "nbconvert_exporter": "python",
   "pygments_lexer": "ipython3",
   "version": "3.8.10"
  }
 },
 "nbformat": 4,
 "nbformat_minor": 5
}
