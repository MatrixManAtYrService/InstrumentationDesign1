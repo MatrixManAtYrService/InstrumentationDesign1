{
 "cells": [
  {
   "cell_type": "markdown",
   "id": "076c23f9",
   "metadata": {},
   "source": [
    "# Instrumentation Design 1\n",
    "## Lab 2: Parallel Circuits\n",
    "\n",
    "Lab report for Matt Rixman"
   ]
  },
  {
   "cell_type": "code",
   "execution_count": 3,
   "id": "a0724075",
   "metadata": {},
   "outputs": [],
   "source": [
    "from si_prefix import si_format as f # used to generate the tables below"
   ]
  },
  {
   "cell_type": "markdown",
   "id": "eefa9557",
   "metadata": {
    "variables": {
     " f(1.51, precision=2 )": "1.51 ",
     " f(10.37 + 1.53, precision=2) ": "11.90 ",
     " f(100.4 + 9.96 + 1.47, precision=2) ": "111.83 "
    }
   },
   "source": [
    "### 1. Current in a parallel circuit\n",
    "\n",
    "Objective 1: Verify that the total current in the circuit is greater than the current in any branch.\n",
    "\n",
    "Objective 2: Verify that the total current is equal to the sum of the currents in each of the parallel branches.\n",
    "\n",
    "The following resistors were arranged in parallel under 10 Volts, the current was measured throuch each resistor, and through the whole circuit.\n",
    "\n",
    "| Name | Nominal Reisistance (Ω) | Measured Resistance (Ω) | Current (A) @ 10V |\n",
    "|:-|:-|:-|:-|\n",
    "|R<sub>1</sub> | 100 | 99.5 | 100.4m |\n",
    "|R<sub>2</sub> | 1k | 980 | 9.96m |\n",
    "|R<sub>3</sub> | 6.8k | 6.74k | 1.47m |\n",
    "|Total<sub>measured</sub> | | | 110.4m |\n",
    "|Total<sub>calculated</sub> | | | {{ f(100.4 + 9.96 + 1.47, precision=2) }}m |\n",
    "\n",
    "Upon removing the branch with R<sub>1</sub> the following new currents were measured.\n",
    "\n",
    "| Name | Nominal Reisistance (Ω) | Measured Resistance (Ω) | Current (A) @ 10V |\n",
    "|:-|:-|:-|:-|\n",
    "|R<sub>2</sub> | 1k | 980 | 10.37m |\n",
    "|R<sub>3</sub> | 6.8k | 6.74k | 1.53m |\n",
    "|Total<sub>measured</sub> | | | 11.86 m |\n",
    "|Total<sub>calculated</sub> | | | {{ f(10.37 + 1.53, precision=2) }}m |\n",
    "\n",
    "\n",
    "Upon removing the branch with R<sub>2</sub> the following new currents were measured.\n",
    "\n",
    "| Name | NominalReisistance (Ω) | Measured Resistance (Ω) | Current (A) @ 10V |\n",
    "|:-|:-|:-|:-|\n",
    "|R<sub>3</sub> | 6.8k | 1.51m |\n",
    "|Total<sub>measured</sub> | | 1.51m |\n",
    "|Total<sub>calculated</sub> | | {{ f(1.51, precision=2 )}}m |\n",
    "\n",
    "10. In all cases, the total current was the sum of the individual branch currents (to within a reasonable error).  This is consistent with both objectives.\n",
    "\n",
    "11. Actual resistors sometimes deviate from the nominal resistance.  Those deviations, while small, could combine to become a significant source of error.  We're not sure what kind of combination we're dealing with (additive, multiplicative, something worse?) so it's best to reason based on measured values instead of nominal ones.\n",
    "\n",
    "12a. As the number of resistors in parallel increases, the current increases.  From this we can conclude that the overall resistance decreases.  This is reasonable because whatever original resistance was there is still there, but now there's an option for the current to go *around it*.\n",
    "\n",
    "12b. Increasing the resistance of a single resistor increased the overall resistance of the circuit. "
   ]
  },
  {
   "cell_type": "markdown",
   "id": "ac80ac67",
   "metadata": {},
   "source": [
    "### 2. Resistance of a Parallel Circuit\n",
    "\n",
    "The total resistance of the branching circuit was measured, with more and fewer branches.  These measurements were compared with the calculated reistances.\n",
    "\n",
    "#### Part A"
   ]
  },
  {
   "cell_type": "markdown",
   "id": "a50ff4e6",
   "metadata": {},
   "source": [
    "$$\n",
    "R_{total} =  \\frac{1}{\\frac{1}{R_1} + \\frac{1}{R_2} + \\ldots}\n",
    "$$\n"
   ]
  },
  {
   "cell_type": "code",
   "execution_count": 11,
   "id": "9f191666",
   "metadata": {},
   "outputs": [],
   "source": [
    "def resistadd(*resistances):\n",
    "    denom = 0\n",
    "    for resistance in resistances:\n",
    "        denom += (1 / resistance)\n",
    "    return 1 / denom"
   ]
  },
  {
   "cell_type": "markdown",
   "id": "895605fe",
   "metadata": {
    "variables": {
     " f(resistadd(99.5, 980), precision=2) ": "90.33 ",
     " f(resistadd(99.5, 980, 6740), precision=2) ": "89.13 "
    }
   },
   "source": [
    "A1.\n",
    "\n",
    "| Name | Nominal Reisistance (Ω) | Measured Resistance (Ω) |\n",
    "|:-|:-|:-|\n",
    "|R<sub>1</sub> | 100 | 99.5 |\n",
    "|R<sub>2</sub> | 1k | 980 ||\n",
    "|R<sub>3</sub> | 6.8k | 6.74k |\n",
    "|Total<sub>measured</sub> | | 89.7  |\n",
    "|Total<sub>calculated</sub> | | {{ f(resistadd(99.5, 980, 6740), precision=2) }} |\n",
    "\n",
    "\n",
    "A2.\n",
    "\n",
    "| Name | Nominal Reisistance (Ω) | Measured Resistance (Ω) |\n",
    "|:-|:-|:-|\n",
    "|R<sub>1</sub> | 100 | 99.5 |\n",
    "|R<sub>2</sub> | 1k | 980 ||\n",
    "|Total<sub>measured</sub> | | 90.8  |\n",
    "|Total<sub>calculated</sub> | | {{ f(resistadd(99.5, 980), precision=2) }} |\n",
    "\n",
    "#### Part B\n",
    "\n",
    "These configurations were then connected to an ammeter and a 10V power supply such that the ammeter measured the total current in the circuit.  From this, we used ohms law to calculate the total resistance in the circuti."
   ]
  },
  {
   "cell_type": "code",
   "execution_count": 10,
   "id": "13da2734",
   "metadata": {},
   "outputs": [],
   "source": [
    "m = 10**-3\n",
    "v = 10\n",
    "def total_resistance(current):\n",
    "    return 10 / current"
   ]
  },
  {
   "cell_type": "markdown",
   "id": "8e3830d3",
   "metadata": {
    "variables": {
     " f(total_resistance(110.8*m), precision=2) ": "90.25 ",
     " f(total_resistance(112.1*m), precision=2) ": "89.21 "
    }
   },
   "source": [
    "\n",
    "B1.\n",
    "\n",
    "Using the resistors from A1...\n",
    "\n",
    ">I<sub>measured</sub> = 112.1mA\n",
    ">\n",
    ">R<sub>calculated</sub> = {{ f(total_resistance(112.1*m), precision=2) }}Ω\n",
    "\n",
    "\n",
    "\n",
    "B2.\n",
    "\n",
    "Using the resistors from A2...\n",
    "\n",
    "> I<sub>measured</sub> = 110.8mA\n",
    ">\n",
    ">R<sub>calculated</sub> = {{ f(total_resistance(110.8*m), precision=2) }}Ω\n",
    "\n",
    "In both cases the calculated resisance was slightly higher than the measured one.  This is likely due to the internal resistance of the ammeter, which was part of the circuit only for the \"measured\" portion.\n",
    "\n",
    "This resistance is small, but since it was put in series with the branching pathway, it contributed resistance more than it would have otherwise.  This error could be reduced (but not avoided) by using a setup like in part one (where the ammeter was in parallel) and then adding the component currents."
   ]
  },
  {
   "cell_type": "markdown",
   "id": "3dd10c1b",
   "metadata": {},
   "source": [
    "### 3. Designing Parallel Circuits\n",
    "\n",
    "#### 3.4.1\n",
    "\n",
    "Given a circuit with one branch (slots for two resistors) and a 15 volt potential, we endeavored to find values for the resistors such that the total current was 20mA\n",
    "\n",
    "From ohm's law we find our target resistance:\n",
    "\n",
    "$$\n",
    "\\frac{15 \\text{V}}{20 \\text{mA}} = 500\\Omega\n",
    "$$\n",
    "\n",
    "Given that...\n",
    "\n",
    "$$\n",
    "\\frac{1}{\\frac{1}{1000} + \\frac{1}{1000}} = 500\n",
    "$$\n",
    "\n",
    "We selected two 1000kΩ resistors for the job.  Experimentally we find 20.3 mA.\n",
    "\n",
    "### 3.4.2\n",
    "\n",
    "Like above, but with 3 slots and a target current of 15ma.\n",
    "\n",
    "Ohm's law gives...\n",
    "\n",
    "$$\n",
    "\\frac{15 \\text{V}}{15 \\text{mA}} = 1\\text{k}\\Omega\n",
    "$$\n",
    "\n",
    "Starting with 2kΩ and 6.8kΩ (since they were lying around) we start with\n",
    "\n",
    "$$\n",
    "\\frac{1}{\\frac{1}{2000} + \\frac{1}{6800} + \\frac{1}{x}} = 1000\n",
    "$$\n",
    "\n",
    "...and solve, finding $x = 2.8\\text{k}\\Omega$. Not having any of those lying around, we put the following in series in the place of R<sub>3</sub>\n",
    "\n",
    "|Name | Resistnce (Ω)|\n",
    "|:--|:--|\n",
    "|R<sub>3,1</sub>|22|\n",
    "|R<sub>3,2</sub>|2700|\n",
    "|R<sub>3,3</sub>|100|\n",
    "|R<sub>3,Total</sub>|2822|\n",
    "\n",
    "Experimentally we find that this gives a current of 15.1mA"
   ]
  },
  {
   "cell_type": "code",
   "execution_count": null,
   "id": "ed4b3fc1",
   "metadata": {},
   "outputs": [],
   "source": []
  }
 ],
 "metadata": {
  "kernelspec": {
   "display_name": "Python 3 (ipykernel)",
   "language": "python",
   "name": "python3"
  },
  "language_info": {
   "codemirror_mode": {
    "name": "ipython",
    "version": 3
   },
   "file_extension": ".py",
   "mimetype": "text/x-python",
   "name": "python",
   "nbconvert_exporter": "python",
   "pygments_lexer": "ipython3",
   "version": "3.9.6"
  }
 },
 "nbformat": 4,
 "nbformat_minor": 5
}
